{
 "cells": [
  {
   "cell_type": "markdown",
   "metadata": {},
   "source": [
    "###### Source from  \"hands-on machine-learning with scikit-learn andTensorflow, O'reilly\""
   ]
  },
  {
   "cell_type": "code",
   "execution_count": 77,
   "metadata": {},
   "outputs": [
    {
     "name": "stdout",
     "output_type": "stream",
     "text": [
      "already exist \"tf_logs\" folder\n",
      "already exist \"tf_ckpt\" folder\n"
     ]
    }
   ],
   "source": [
    "import numpy as np\n",
    "import os\n",
    "import tensorflow as tf\n",
    "\n",
    "def reset_graph(seed=42):\n",
    "    tf.reset_default_graph()\n",
    "    tf.set_random_seed(seed)\n",
    "    np.random.seed(seed)\n",
    "    \n",
    "if os.path.isdir('./tf_logs'):\n",
    "    print('already exist \"tf_logs\" folder')\n",
    "else:    \n",
    "    os.mkdir('./tf_logs')\n",
    "    print('successfully create \"tf_logs\" folder')\n",
    "    \n",
    "if os.path.isdir('./tf_ckpt'):\n",
    "    print('already exist \"tf_ckpt\" folder')\n",
    "else:\n",
    "    os.mkdir('./tf_ckpt')\n",
    "    print('successfully create \"tf_ckpt\" folder')"
   ]
  },
  {
   "cell_type": "markdown",
   "metadata": {},
   "source": [
    "# Basic RNNs"
   ]
  },
  {
   "cell_type": "markdown",
   "metadata": {},
   "source": [
    "## using static_rnn()"
   ]
  },
  {
   "cell_type": "markdown",
   "metadata": {},
   "source": [
    "###### static_rnn() vs dynamic_rnn()\n"
   ]
  },
  {
   "cell_type": "markdown",
   "metadata": {},
   "source": [
    "- static_rnn()\n",
    ": if you call tf.contrib.rnn.static_rnn with inputs having 200 time steps you are creating a static graph with 200 RNN steps. You are unable to pass in longer sequences than you've originally specified\n",
    "\n",
    "\n",
    "\n",
    "- dyanmic_rnn()\n",
    ": tf.nn.dynamic_rnn solves it. It uses a tf.While loop to dynamically construct the graph when it is executed. That means graph creation is faster and you can feed batches of variable size."
   ]
  },
  {
   "cell_type": "code",
   "execution_count": 2,
   "metadata": {
    "collapsed": true
   },
   "outputs": [],
   "source": [
    "n_inputs=3\n",
    "n_neurons=5"
   ]
  },
  {
   "cell_type": "markdown",
   "metadata": {},
   "source": [
    "1. creates a basic RNNcell with the specified number of neurons in a cell.\n",
    "   - basic_cell=tf.contrib.rnn.BasicRNNCell(num_units=n_neurons)\n",
    "2. creates a recurrent neural network specified by RNNCell\n",
    "   - output_seqs, states=tf.contrib.rnn.static_rnn(basic_cell, [X0,X1, dtype=tf.float32)"
   ]
  },
  {
   "cell_type": "code",
   "execution_count": 3,
   "metadata": {},
   "outputs": [
    {
     "data": {
      "text/plain": [
       "<tensorflow.python.summary.writer.writer.FileWriter at 0x7fe4d3839e10>"
      ]
     },
     "execution_count": 3,
     "metadata": {},
     "output_type": "execute_result"
    }
   ],
   "source": [
    "reset_graph()\n",
    "\n",
    "summaries_dir='./tf_logs'\n",
    "X0=tf.placeholder(tf.float32, [None, n_inputs])\n",
    "X1=tf.placeholder(tf.float32, [None, n_inputs])\n",
    "\n",
    "basic_cell=tf.contrib.rnn.BasicRNNCell(num_units=n_neurons)\n",
    "output_seqs, states=tf.contrib.rnn.static_rnn(basic_cell, [X0, X1], dtype=tf.float32)\n",
    "Y0, Y1=output_seqs\n",
    "\n",
    "tf.summary.FileWriter(summaries_dir+'/rnn1', tf.get_default_graph())"
   ]
  },
  {
   "cell_type": "markdown",
   "metadata": {},
   "source": [
    "![title](./img/basic_rnn_cell.png)"
   ]
  },
  {
   "cell_type": "code",
   "execution_count": 5,
   "metadata": {},
   "outputs": [
    {
     "data": {
      "text/plain": [
       "TensorShape([Dimension(None), Dimension(5)])"
      ]
     },
     "execution_count": 5,
     "metadata": {},
     "output_type": "execute_result"
    }
   ],
   "source": [
    "states.get_shape()"
   ]
  },
  {
   "cell_type": "code",
   "execution_count": 6,
   "metadata": {},
   "outputs": [
    {
     "data": {
      "text/plain": [
       "TensorShape([Dimension(None), Dimension(5)])"
      ]
     },
     "execution_count": 6,
     "metadata": {},
     "output_type": "execute_result"
    }
   ],
   "source": [
    "Y0.get_shape()"
   ]
  },
  {
   "cell_type": "code",
   "execution_count": 7,
   "metadata": {},
   "outputs": [
    {
     "data": {
      "text/plain": [
       "TensorShape([Dimension(None), Dimension(5)])"
      ]
     },
     "execution_count": 7,
     "metadata": {},
     "output_type": "execute_result"
    }
   ],
   "source": [
    "Y1.get_shape()"
   ]
  },
  {
   "cell_type": "markdown",
   "metadata": {},
   "source": [
    "- creates artificial input data"
   ]
  },
  {
   "cell_type": "code",
   "execution_count": 8,
   "metadata": {
    "collapsed": true
   },
   "outputs": [],
   "source": [
    "X0_batch = np.array([[0, 1, 2], [3, 4, 5], [6, 7, 8], [9, 0, 1]])\n",
    "X1_batch = np.array([[9, 8, 7], [0, 0, 0], [6, 5, 4], [3, 2, 1]])"
   ]
  },
  {
   "cell_type": "code",
   "execution_count": 9,
   "metadata": {
    "collapsed": true
   },
   "outputs": [],
   "source": [
    "init=tf.global_variables_initializer()\n",
    "\n",
    "X0_batch = np.array([[0, 1, 2], [3, 4, 5], [6, 7, 8], [9, 0, 1]])\n",
    "X1_batch = np.array([[9, 8, 7], [0, 0, 0], [6, 5, 4], [3, 2, 1]])\n",
    "\n",
    "with tf.Session() as sess:\n",
    "    sess.run(init)\n",
    "    Y0_val, Y1_val=sess.run([Y0, Y1], feed_dict={X0:X0_batch, X1:X1_batch})"
   ]
  },
  {
   "cell_type": "code",
   "execution_count": 10,
   "metadata": {},
   "outputs": [
    {
     "name": "stdout",
     "output_type": "stream",
     "text": [
      "[[ 0.30741337 -0.32884312 -0.65428472 -0.93850589  0.52089024]\n",
      " [ 0.99122751 -0.95425415 -0.75180781 -0.99952078  0.98202336]\n",
      " [ 0.99992675 -0.99783254 -0.82473516 -0.99999636  0.99947786]\n",
      " [ 0.99677092 -0.68750608  0.84199691  0.93039113  0.81206834]]\n"
     ]
    }
   ],
   "source": [
    "print(Y0_val)"
   ]
  },
  {
   "cell_type": "markdown",
   "metadata": {},
   "source": [
    "## Packing sequences"
   ]
  },
  {
   "cell_type": "markdown",
   "metadata": {},
   "source": [
    "- 방금 위에 코드에서는 time step마다 2개의 인풋을 따로 만들어줬다.(X0_batch, X1_batch) 그러나, step마다 인풋을 따로 만들어주면 time step개수가 많아질 경우 일일이 feed_dict을 해줘야할 placeholder를 만들어줘야한다는 번거로움이 있다. 따라서, time step이 한꺼번에 들어갈 수 있도록 해줘야 한다."
   ]
  },
  {
   "cell_type": "code",
   "execution_count": 11,
   "metadata": {
    "collapsed": true
   },
   "outputs": [],
   "source": [
    "n_steps=2\n",
    "n_inputs=3\n",
    "n_neurons=5"
   ]
  },
  {
   "cell_type": "markdown",
   "metadata": {},
   "source": [
    "- tf.transpose(X, perm=[1,0,2])\n",
    "  : [None, n_steps, n_inputs] --> [n_steps, None, n_inputs]\n",
    "  \n",
    "- tf.unstack\n",
    "  : [n_steps, None, n_inputs]의 tensor를 step별로 쪼개서 list로 묶는다.\n",
    "  \n",
    "- tf.stack\n",
    "  : tf.stack의 반대과정. 각 step마다의 아웃풋을 첫번째 dimension으로 쌓아준다.\n",
    "    tf.stack의 결과, 다시 [n_steps, None, n_inputs] 이 된다.\n",
    "    \n",
    "- tf.transpose\n",
    "  : [n_steps, None, n_inputs] --> [None, n_steps, n_inputs]으로 바꿔준다."
   ]
  },
  {
   "cell_type": "code",
   "execution_count": 12,
   "metadata": {
    "collapsed": true
   },
   "outputs": [],
   "source": [
    "reset_graph()\n",
    "\n",
    "X=tf.placeholder(tf.float32, [None, n_steps, n_inputs])\n",
    "X_seqs=tf.unstack(tf.transpose(X, perm=[1,0,2]))\n",
    "basic_cell=tf.contrib.rnn.BasicRNNCell(num_units=n_neurons)\n",
    "output_seqs, state=tf.contrib.rnn.static_rnn(basic_cell, X_seqs, dtype=tf.float32)\n",
    "outputs=tf.transpose(tf.stack(output_seqs), perm=[1,0,2])\n",
    "\n",
    "train_writer=tf.summary.FileWriter(summaries_dir+'/rnn2', tf.get_default_graph())"
   ]
  },
  {
   "cell_type": "code",
   "execution_count": 15,
   "metadata": {},
   "outputs": [
    {
     "data": {
      "text/plain": [
       "list"
      ]
     },
     "execution_count": 15,
     "metadata": {},
     "output_type": "execute_result"
    }
   ],
   "source": [
    "type(output_seqs)"
   ]
  },
  {
   "cell_type": "code",
   "execution_count": 16,
   "metadata": {},
   "outputs": [
    {
     "data": {
      "text/plain": [
       "TensorShape([Dimension(None), Dimension(5)])"
      ]
     },
     "execution_count": 16,
     "metadata": {},
     "output_type": "execute_result"
    }
   ],
   "source": [
    "state.get_shape()"
   ]
  },
  {
   "cell_type": "code",
   "execution_count": 17,
   "metadata": {},
   "outputs": [
    {
     "data": {
      "text/plain": [
       "TensorShape([Dimension(None), Dimension(2), Dimension(5)])"
      ]
     },
     "execution_count": 17,
     "metadata": {},
     "output_type": "execute_result"
    }
   ],
   "source": [
    "outputs.get_shape()"
   ]
  },
  {
   "cell_type": "code",
   "execution_count": 18,
   "metadata": {
    "collapsed": true
   },
   "outputs": [],
   "source": [
    "X_batch = np.array([\n",
    "        # t = 0      t = 1 \n",
    "        [[0, 1, 2], [9, 8, 7]], # instance 1\n",
    "        [[3, 4, 5], [0, 0, 0]], # instance 2\n",
    "        [[6, 7, 8], [6, 5, 4]], # instance 3\n",
    "        [[9, 0, 1], [3, 2, 1]], # instance 4\n",
    "    ])\n",
    "\n",
    "init=tf.global_variables_initializer()\n",
    "with tf.Session() as sess:\n",
    "    sess.run(init)\n",
    "    X_seqs_val=sess.run(X_seqs, feed_dict={X:X_batch})\n",
    "    outputs_seqs_val=sess.run(output_seqs, feed_dict={X:X_batch})\n",
    "    outputs_val=outputs.eval(feed_dict={X:X_batch})\n",
    "    state=state.eval(feed_dict={X:X_batch})"
   ]
  },
  {
   "cell_type": "markdown",
   "metadata": {},
   "source": [
    "- 4개의 batch로 구성된 인풋이 들어가있으므로, 아웃풋과 hidden layer의 마지막 step의 state값도 각각 4개로 이루어져있다."
   ]
  },
  {
   "cell_type": "code",
   "execution_count": 19,
   "metadata": {},
   "outputs": [
    {
     "name": "stdout",
     "output_type": "stream",
     "text": [
      "[[[-0.45652321 -0.68064117  0.40938237  0.63104498 -0.45732823]\n",
      "  [-0.94288003 -0.99988687  0.94055808  0.99999845 -0.99999976]]\n",
      "\n",
      " [[-0.80015343 -0.99218273  0.78177965  0.99710321 -0.99646091]\n",
      "  [-0.63711601  0.11300934  0.5798437   0.43105593 -0.6371699 ]]\n",
      "\n",
      " [[-0.93605185 -0.99983793  0.93088669  0.9999814  -0.99998313]\n",
      "  [-0.9165386  -0.99456036  0.89605415  0.99987191 -0.99997509]]\n",
      "\n",
      " [[ 0.99273676 -0.99819332 -0.55543649  0.99890316 -0.9953323 ]\n",
      "  [-0.02746333 -0.73191983  0.7827872   0.95256817 -0.97817719]]]\n"
     ]
    }
   ],
   "source": [
    "print(outputs_val)"
   ]
  },
  {
   "cell_type": "code",
   "execution_count": 20,
   "metadata": {},
   "outputs": [
    {
     "name": "stdout",
     "output_type": "stream",
     "text": [
      "[[-0.94288003 -0.99988687  0.94055808  0.99999845 -0.99999976]\n",
      " [-0.63711601  0.11300934  0.5798437   0.43105593 -0.6371699 ]\n",
      " [-0.9165386  -0.99456036  0.89605415  0.99987191 -0.99997509]\n",
      " [-0.02746333 -0.73191983  0.7827872   0.95256817 -0.97817719]]\n"
     ]
    }
   ],
   "source": [
    "print(state)"
   ]
  },
  {
   "cell_type": "markdown",
   "metadata": {},
   "source": [
    "## Using dynamic_rnn()"
   ]
  },
  {
   "cell_type": "code",
   "execution_count": 21,
   "metadata": {
    "collapsed": true
   },
   "outputs": [],
   "source": [
    "n_steps=2\n",
    "n_inputs=3\n",
    "n_neurons=5"
   ]
  },
  {
   "cell_type": "code",
   "execution_count": 22,
   "metadata": {
    "collapsed": true
   },
   "outputs": [],
   "source": [
    "reset_graph()\n",
    "X=tf.placeholder(tf.float32, [None, n_steps, n_inputs])\n",
    "\n",
    "basic_cell=tf.contrib.rnn.BasicRNNCell(num_units=n_neurons)\n",
    "outputs, states=tf.nn.dynamic_rnn(basic_cell, X, dtype=tf.float32)\n",
    "\n",
    "graph_writer=tf.summary.FileWriter(summaries_dir+'/rnn3', tf.get_default_graph())"
   ]
  },
  {
   "cell_type": "code",
   "execution_count": 23,
   "metadata": {
    "collapsed": true
   },
   "outputs": [],
   "source": [
    "X_batch = np.array([\n",
    "        [[0, 1, 2], [9, 8, 7]], # instance 1\n",
    "        [[3, 4, 5], [0, 0, 0]], # instance 2\n",
    "        [[6, 7, 8], [6, 5, 4]], # instance 3\n",
    "        [[9, 0, 1], [3, 2, 1]], # instance 4\n",
    "    ])\n",
    "\n",
    "with tf.Session() as sess:\n",
    "    sess.run(tf.global_variables_initializer())\n",
    "    outputs_val, state_val=sess.run([outputs, states], feed_dict={X:X_batch})"
   ]
  },
  {
   "cell_type": "code",
   "execution_count": 24,
   "metadata": {
    "scrolled": true
   },
   "outputs": [
    {
     "name": "stdout",
     "output_type": "stream",
     "text": [
      "[[[ 0.80872232 -0.5231244  -0.6716494  -0.69762248 -0.54384494]\n",
      "  [ 0.9995454   0.99339807 -0.99998361  0.99919224 -0.98379493]]\n",
      "\n",
      " [[ 0.99547112 -0.02155101 -0.99482888  0.17964771 -0.83173692]\n",
      "  [-0.06013342  0.40301439  0.02884478 -0.29437581 -0.85681581]]\n",
      "\n",
      " [[ 0.99990261  0.4911105  -0.99993157  0.84138334 -0.94446802]\n",
      "  [ 0.99406183  0.95815992 -0.99768937  0.98646176 -0.91752493]]\n",
      "\n",
      " [[-0.80632919  0.93928134 -0.97309887  0.99996096  0.9743306 ]\n",
      "  [ 0.95047355 -0.51205146 -0.27763975  0.83108056  0.81631833]]]\n"
     ]
    }
   ],
   "source": [
    "print(outputs_val)"
   ]
  },
  {
   "cell_type": "code",
   "execution_count": 25,
   "metadata": {},
   "outputs": [
    {
     "name": "stdout",
     "output_type": "stream",
     "text": [
      "[[ 0.9995454   0.99339807 -0.99998361  0.99919224 -0.98379493]\n",
      " [-0.06013342  0.40301439  0.02884478 -0.29437581 -0.85681581]\n",
      " [ 0.99406183  0.95815992 -0.99768937  0.98646176 -0.91752493]\n",
      " [ 0.95047355 -0.51205146 -0.27763975  0.83108056  0.81631833]]\n"
     ]
    }
   ],
   "source": [
    "print(state_val)"
   ]
  },
  {
   "cell_type": "markdown",
   "metadata": {},
   "source": [
    "## Handling Variable Length Input Sequence"
   ]
  },
  {
   "cell_type": "code",
   "execution_count": 26,
   "metadata": {
    "collapsed": true
   },
   "outputs": [],
   "source": [
    "n_steps=2\n",
    "n_inputs=3\n",
    "n_neurons=5"
   ]
  },
  {
   "cell_type": "code",
   "execution_count": 27,
   "metadata": {
    "collapsed": true
   },
   "outputs": [],
   "source": [
    "reset_graph()\n",
    "\n",
    "seq_length=tf.placeholder(tf.int32, [None])\n",
    "X=tf.placeholder(tf.float32, [None, n_steps, n_inputs])\n",
    "\n",
    "basic_cell=tf.contrib.rnn.BasicRNNCell(num_units=n_neurons)\n",
    "outputs, states=tf.nn.dynamic_rnn(basic_cell, X, dtype=tf.float32, sequence_length=seq_length)\n",
    "\n",
    "graph_writer=tf.summary.FileWriter(summaries_dir+'/rnn4', tf.get_default_graph())"
   ]
  },
  {
   "cell_type": "code",
   "execution_count": 28,
   "metadata": {
    "collapsed": true
   },
   "outputs": [],
   "source": [
    "X_batch = np.array([\n",
    "        # step 0     step 1\n",
    "        [[0, 1, 2], [9, 8, 7]], # instance 1\n",
    "        [[3, 4, 5], [0, 0, 0]], # instance 2 (padded with zero vectors)\n",
    "        [[6, 7, 8], [6, 5, 4]], # instance 3\n",
    "        [[9, 0, 1], [3, 2, 1]], # instance 4\n",
    "    ])\n",
    "seq_length_batch = np.array([2, 1, 2, 2])"
   ]
  },
  {
   "cell_type": "code",
   "execution_count": 29,
   "metadata": {
    "collapsed": true
   },
   "outputs": [],
   "source": [
    "with tf.Session() as sess:\n",
    "    sess.run(tf.global_variables_initializer())\n",
    "    outputs_val, states_val=sess.run([outputs, states], feed_dict={X:X_batch, seq_length: seq_length_batch})"
   ]
  },
  {
   "cell_type": "code",
   "execution_count": 30,
   "metadata": {},
   "outputs": [
    {
     "name": "stdout",
     "output_type": "stream",
     "text": [
      "[[[ 0.04335004 -0.79070514  0.62847096 -0.16162856  0.82851917]\n",
      "  [-0.23427285 -0.98320025  1.          0.05531171  0.13038827]]\n",
      "\n",
      " [[ 0.06481664 -0.98885173  0.99938971 -0.28373343  0.94707841]\n",
      "  [ 0.          0.          0.          0.          0.        ]]\n",
      "\n",
      " [[ 0.08622331 -0.99946249  0.99999917 -0.39728165  0.98436832]\n",
      "  [-0.39562979 -0.49045306  0.99999106  0.26839554 -0.66423559]]\n",
      "\n",
      " [[-0.9948616   0.99336129  0.99999344  0.90489864 -0.99997765]\n",
      "  [ 0.65352571 -0.56341326  0.99020582  0.72314978  0.30071682]]]\n"
     ]
    }
   ],
   "source": [
    "print(outputs_val)"
   ]
  },
  {
   "cell_type": "code",
   "execution_count": 31,
   "metadata": {},
   "outputs": [
    {
     "name": "stdout",
     "output_type": "stream",
     "text": [
      "[[-0.23427285 -0.98320025  1.          0.05531171  0.13038827]\n",
      " [ 0.06481664 -0.98885173  0.99938971 -0.28373343  0.94707841]\n",
      " [-0.39562979 -0.49045306  0.99999106  0.26839554 -0.66423559]\n",
      " [ 0.65352571 -0.56341326  0.99020582  0.72314978  0.30071682]]\n"
     ]
    }
   ],
   "source": [
    "print(states_val)"
   ]
  },
  {
   "cell_type": "markdown",
   "metadata": {},
   "source": [
    "## Training a sequence classifier"
   ]
  },
  {
   "cell_type": "markdown",
   "metadata": {},
   "source": [
    "- 이제 학습하는 과정을 알아보자. rnn은 cnn과 비교했을 때, 앞의 graph를 구성하는 코드만 살짝 다를 뿐 training하는 부분과 evaluation하는 부분의 코드는 동일하다.\n",
    "- 또한, hands-on-machine learning with scikit-learn and tensorflow책에서는 rnn을 이용하여 classification 코드를 학습 예제 코드로 제공한다. 처음에 rnn이 어떻게 classification이 되는지 신기했으나, accuracy가 높은 것으로 보아하니, classification으로도 활용할 수 있다!"
   ]
  },
  {
   "cell_type": "markdown",
   "metadata": {},
   "source": [
    "<img src='./img/deepmind.gif'>\n",
    "\n",
    "<h4><center>[RNN learns to paint house numbers]</center></h4>"
   ]
  },
  {
   "cell_type": "markdown",
   "metadata": {},
   "source": [
    "- 위의 gif 이미지는 'DRAW: A Recurrent Neural Network For Image Generatetion'(K. Gregor, et. al, 2015)에서 auto-encoder모델과 rnn을 결합시켜 RNN이 자동으로 뒤에 배경색을 입혀서 숫자 이미지를 생성시킨다.  \n",
    "\n",
    "***** source : http://karpathy.github.io/2015/05/21/rnn-effectiveness/"
   ]
  },
  {
   "cell_type": "code",
   "execution_count": 32,
   "metadata": {
    "collapsed": true
   },
   "outputs": [],
   "source": [
    "n_steps=28\n",
    "n_inputs=28\n",
    "n_neurons=150\n",
    "n_outputs=10\n",
    "learning_rate=0.001"
   ]
  },
  {
   "cell_type": "markdown",
   "metadata": {},
   "source": [
    "<img src='./img/sequence_classifier.png'>\n",
    "\n",
    "<h4><center>[RNN with mnist data]</center></h4>"
   ]
  },
  {
   "cell_type": "code",
   "execution_count": 36,
   "metadata": {
    "collapsed": true
   },
   "outputs": [],
   "source": [
    "reset_graph()\n",
    "\n",
    "X=tf.placeholder(tf.float32, [None, n_steps, n_inputs])\n",
    "y=tf.placeholder(tf.int32, [None])\n",
    "\n",
    "basic_cell=tf.contrib.rnn.BasicRNNCell(num_units=n_neurons)\n",
    "outputs, states=tf.nn.dynamic_rnn(basic_cell, X, dtype=tf.float32)\n",
    "\n",
    "logits=tf.layers.dense(states, n_outputs)\n",
    "xentropy=tf.nn.sparse_softmax_cross_entropy_with_logits(labels=y, \n",
    "                                                       logits=logits)\n",
    "loss=tf.reduce_mean(xentropy)\n",
    "optimizer=tf.train.AdamOptimizer(learning_rate=learning_rate)\n",
    "training_op=optimizer.minimize(loss)\n",
    "\n",
    "correct=tf.nn.in_top_k(logits,y,1)\n",
    "accuracy=tf.reduce_mean(tf.cast(correct, tf.float32))\n",
    "\n",
    "graph_writer=tf.summary.FileWriter(summaries_dir+'/rnn_with_mnist', tf.get_default_graph())"
   ]
  },
  {
   "cell_type": "code",
   "execution_count": 34,
   "metadata": {
    "scrolled": true
   },
   "outputs": [
    {
     "name": "stdout",
     "output_type": "stream",
     "text": [
      "Successfully downloaded train-images-idx3-ubyte.gz 9912422 bytes.\n",
      "Extracting /tmp/data/train-images-idx3-ubyte.gz\n",
      "Successfully downloaded train-labels-idx1-ubyte.gz 28881 bytes.\n",
      "Extracting /tmp/data/train-labels-idx1-ubyte.gz\n",
      "Successfully downloaded t10k-images-idx3-ubyte.gz 1648877 bytes.\n",
      "Extracting /tmp/data/t10k-images-idx3-ubyte.gz\n",
      "Successfully downloaded t10k-labels-idx1-ubyte.gz 4542 bytes.\n",
      "Extracting /tmp/data/t10k-labels-idx1-ubyte.gz\n"
     ]
    }
   ],
   "source": [
    "from tensorflow.examples.tutorials.mnist import input_data\n",
    "mnist = input_data.read_data_sets(\"/tmp/data/\")\n",
    "X_test = mnist.test.images.reshape((-1, n_steps, n_inputs))\n",
    "y_test = mnist.test.labels"
   ]
  },
  {
   "cell_type": "code",
   "execution_count": 35,
   "metadata": {
    "scrolled": false
   },
   "outputs": [
    {
     "name": "stdout",
     "output_type": "stream",
     "text": [
      "0 Train accuracy: 0.906667 Test accuracy: 0.9061\n",
      "1 Train accuracy: 0.953333 Test accuracy: 0.9426\n",
      "2 Train accuracy: 0.946667 Test accuracy: 0.953\n",
      "3 Train accuracy: 0.973333 Test accuracy: 0.9614\n",
      "4 Train accuracy: 0.953333 Test accuracy: 0.9684\n",
      "5 Train accuracy: 0.966667 Test accuracy: 0.9699\n",
      "6 Train accuracy: 0.993333 Test accuracy: 0.9706\n",
      "7 Train accuracy: 0.973333 Test accuracy: 0.9629\n",
      "8 Train accuracy: 0.966667 Test accuracy: 0.9709\n",
      "9 Train accuracy: 0.966667 Test accuracy: 0.9734\n",
      "10 Train accuracy: 0.993333 Test accuracy: 0.9751\n",
      "11 Train accuracy: 0.966667 Test accuracy: 0.9752\n",
      "12 Train accuracy: 0.986667 Test accuracy: 0.9745\n",
      "13 Train accuracy: 0.98 Test accuracy: 0.9731\n",
      "14 Train accuracy: 0.966667 Test accuracy: 0.9744\n",
      "15 Train accuracy: 0.993333 Test accuracy: 0.9764\n",
      "16 Train accuracy: 0.98 Test accuracy: 0.9725\n",
      "17 Train accuracy: 0.98 Test accuracy: 0.9698\n",
      "18 Train accuracy: 0.98 Test accuracy: 0.9686\n",
      "19 Train accuracy: 0.98 Test accuracy: 0.9779\n",
      "20 Train accuracy: 0.973333 Test accuracy: 0.9767\n",
      "21 Train accuracy: 0.973333 Test accuracy: 0.9773\n",
      "22 Train accuracy: 0.986667 Test accuracy: 0.9783\n",
      "23 Train accuracy: 1.0 Test accuracy: 0.9761\n",
      "24 Train accuracy: 1.0 Test accuracy: 0.9764\n",
      "25 Train accuracy: 1.0 Test accuracy: 0.9798\n",
      "26 Train accuracy: 0.973333 Test accuracy: 0.98\n",
      "27 Train accuracy: 0.986667 Test accuracy: 0.9795\n",
      "28 Train accuracy: 0.98 Test accuracy: 0.9778\n",
      "29 Train accuracy: 1.0 Test accuracy: 0.9778\n",
      "30 Train accuracy: 1.0 Test accuracy: 0.9807\n",
      "31 Train accuracy: 1.0 Test accuracy: 0.9769\n",
      "32 Train accuracy: 0.986667 Test accuracy: 0.9746\n",
      "33 Train accuracy: 0.993333 Test accuracy: 0.977\n",
      "34 Train accuracy: 1.0 Test accuracy: 0.9789\n",
      "35 Train accuracy: 1.0 Test accuracy: 0.9797\n",
      "36 Train accuracy: 1.0 Test accuracy: 0.9779\n",
      "37 Train accuracy: 1.0 Test accuracy: 0.9819\n",
      "38 Train accuracy: 0.993333 Test accuracy: 0.9791\n",
      "39 Train accuracy: 0.993333 Test accuracy: 0.982\n",
      "40 Train accuracy: 0.973333 Test accuracy: 0.9727\n",
      "41 Train accuracy: 0.986667 Test accuracy: 0.9776\n",
      "42 Train accuracy: 0.986667 Test accuracy: 0.981\n",
      "43 Train accuracy: 1.0 Test accuracy: 0.9797\n",
      "44 Train accuracy: 0.993333 Test accuracy: 0.9824\n",
      "45 Train accuracy: 0.973333 Test accuracy: 0.9763\n",
      "46 Train accuracy: 1.0 Test accuracy: 0.9783\n",
      "47 Train accuracy: 0.986667 Test accuracy: 0.977\n",
      "48 Train accuracy: 0.993333 Test accuracy: 0.9814\n",
      "49 Train accuracy: 0.993333 Test accuracy: 0.9797\n",
      "50 Train accuracy: 0.986667 Test accuracy: 0.9838\n",
      "51 Train accuracy: 0.993333 Test accuracy: 0.9801\n",
      "52 Train accuracy: 0.993333 Test accuracy: 0.9769\n",
      "53 Train accuracy: 0.986667 Test accuracy: 0.9763\n",
      "54 Train accuracy: 1.0 Test accuracy: 0.9822\n",
      "55 Train accuracy: 1.0 Test accuracy: 0.9797\n",
      "56 Train accuracy: 1.0 Test accuracy: 0.98\n",
      "57 Train accuracy: 0.993333 Test accuracy: 0.9793\n",
      "58 Train accuracy: 0.993333 Test accuracy: 0.9806\n",
      "59 Train accuracy: 0.993333 Test accuracy: 0.9786\n",
      "60 Train accuracy: 1.0 Test accuracy: 0.9779\n",
      "61 Train accuracy: 0.986667 Test accuracy: 0.9727\n",
      "62 Train accuracy: 1.0 Test accuracy: 0.9784\n",
      "63 Train accuracy: 0.993333 Test accuracy: 0.9781\n",
      "64 Train accuracy: 0.993333 Test accuracy: 0.9772\n",
      "65 Train accuracy: 0.993333 Test accuracy: 0.9783\n",
      "66 Train accuracy: 1.0 Test accuracy: 0.982\n",
      "67 Train accuracy: 0.993333 Test accuracy: 0.9819\n",
      "68 Train accuracy: 0.986667 Test accuracy: 0.9805\n",
      "69 Train accuracy: 1.0 Test accuracy: 0.9787\n",
      "70 Train accuracy: 0.986667 Test accuracy: 0.9739\n",
      "71 Train accuracy: 0.993333 Test accuracy: 0.9742\n",
      "72 Train accuracy: 0.986667 Test accuracy: 0.9796\n",
      "73 Train accuracy: 1.0 Test accuracy: 0.9775\n",
      "74 Train accuracy: 0.986667 Test accuracy: 0.9796\n",
      "75 Train accuracy: 0.973333 Test accuracy: 0.9722\n",
      "76 Train accuracy: 0.993333 Test accuracy: 0.9794\n",
      "77 Train accuracy: 1.0 Test accuracy: 0.9777\n",
      "78 Train accuracy: 0.993333 Test accuracy: 0.9817\n",
      "79 Train accuracy: 0.98 Test accuracy: 0.9718\n",
      "80 Train accuracy: 0.986667 Test accuracy: 0.98\n",
      "81 Train accuracy: 0.993333 Test accuracy: 0.976\n",
      "82 Train accuracy: 0.993333 Test accuracy: 0.9793\n",
      "83 Train accuracy: 0.993333 Test accuracy: 0.9745\n",
      "84 Train accuracy: 1.0 Test accuracy: 0.9806\n",
      "85 Train accuracy: 1.0 Test accuracy: 0.9785\n",
      "86 Train accuracy: 0.993333 Test accuracy: 0.9785\n",
      "87 Train accuracy: 0.993333 Test accuracy: 0.9782\n",
      "88 Train accuracy: 0.986667 Test accuracy: 0.9796\n",
      "89 Train accuracy: 0.986667 Test accuracy: 0.9748\n",
      "90 Train accuracy: 1.0 Test accuracy: 0.9774\n",
      "91 Train accuracy: 1.0 Test accuracy: 0.9786\n",
      "92 Train accuracy: 0.973333 Test accuracy: 0.9724\n",
      "93 Train accuracy: 0.993333 Test accuracy: 0.9801\n",
      "94 Train accuracy: 0.993333 Test accuracy: 0.9766\n",
      "95 Train accuracy: 0.993333 Test accuracy: 0.9789\n",
      "96 Train accuracy: 0.986667 Test accuracy: 0.979\n",
      "97 Train accuracy: 0.993333 Test accuracy: 0.9772\n",
      "98 Train accuracy: 0.986667 Test accuracy: 0.979\n",
      "99 Train accuracy: 1.0 Test accuracy: 0.9753\n"
     ]
    }
   ],
   "source": [
    "n_epochs = 100\n",
    "batch_size = 150\n",
    "\n",
    "with tf.Session() as sess:\n",
    "    sess.run(tf.global_variables_initializer())\n",
    "    for epoch in range(n_epochs):\n",
    "        for iteration in range(mnist.train.num_examples // batch_size):\n",
    "            X_batch, y_batch = mnist.train.next_batch(batch_size)\n",
    "            X_batch = X_batch.reshape((-1, n_steps, n_inputs))\n",
    "            sess.run(training_op, feed_dict={X: X_batch, y: y_batch})\n",
    "        acc_train = accuracy.eval(feed_dict={X: X_batch, y: y_batch})\n",
    "        acc_test = accuracy.eval(feed_dict={X: X_test, y: y_test})\n",
    "        print(epoch, \"Train accuracy:\", acc_train, \"Test accuracy:\", acc_test)"
   ]
  },
  {
   "cell_type": "markdown",
   "metadata": {},
   "source": [
    "### Remodel RNN(sequence classifier) using variable_scope()"
   ]
  },
  {
   "cell_type": "code",
   "execution_count": 37,
   "metadata": {
    "collapsed": true
   },
   "outputs": [],
   "source": [
    "n_steps=28\n",
    "n_inputs=28\n",
    "n_neurons=150\n",
    "n_outputs=10\n",
    "learning_rate=0.001"
   ]
  },
  {
   "cell_type": "code",
   "execution_count": 38,
   "metadata": {},
   "outputs": [
    {
     "name": "stdout",
     "output_type": "stream",
     "text": [
      "Extracting /tmp/data/train-images-idx3-ubyte.gz\n",
      "Extracting /tmp/data/train-labels-idx1-ubyte.gz\n",
      "Extracting /tmp/data/t10k-images-idx3-ubyte.gz\n",
      "Extracting /tmp/data/t10k-labels-idx1-ubyte.gz\n"
     ]
    }
   ],
   "source": [
    "from tensorflow.examples.tutorials.mnist import input_data\n",
    "mnist = input_data.read_data_sets(\"/tmp/data/\")\n",
    "X_test = mnist.test.images.reshape((-1, n_steps, n_inputs))\n",
    "y_test = mnist.test.labels"
   ]
  },
  {
   "cell_type": "code",
   "execution_count": 39,
   "metadata": {
    "collapsed": true
   },
   "outputs": [],
   "source": [
    "tf.reset_default_graph()\n",
    "\n",
    "X=tf.placeholder(tf.float32, [None, n_steps, n_inputs])\n",
    "y=tf.placeholder(tf.int32, [None])\n",
    "\n",
    "with tf.variable_scope('rnn', initializer=tf.contrib.layers.variance_scaling_initializer()):\n",
    "    basic_cell=tf.contrib.rnn.BasicRNNCell(num_units=n_neurons)\n",
    "    _, states=tf.nn.dynamic_rnn(basic_cell, X, dtype=tf.float32)\n",
    "    \n",
    "    logits=tf.layers.dense(states, n_outputs, name='softmax')\n",
    "    \n",
    "with tf.name_scope('training_op'):\n",
    "    cross_entropy=tf.nn.sparse_softmax_cross_entropy_with_logits(labels=y, logits=logits, name='cross_entropy')\n",
    "    loss=tf.reduce_mean(cross_entropy, name='loss')\n",
    "    optimizer=tf.train.AdamOptimizer(learning_rate=learning_rate)\n",
    "    training_op=optimizer.minimize(loss)\n",
    "       \n",
    "with tf.name_scope('evaluation_op'):\n",
    "    correct=tf.nn.in_top_k(logits,y,1)\n",
    "    accuracy=tf.reduce_mean(tf.cast(correct, tf.float32))\n",
    "    \n",
    "filewriter=tf.summary.FileWriter('./tf_logs/rnn_with_variable_scope', tf.get_default_graph())"
   ]
  },
  {
   "cell_type": "code",
   "execution_count": 13,
   "metadata": {},
   "outputs": [
    {
     "name": "stdout",
     "output_type": "stream",
     "text": [
      "0 Train accuracy: 0.966667 Test accuracy: 0.9319\n",
      "1 Train accuracy: 0.966667 Test accuracy: 0.9543\n",
      "2 Train accuracy: 0.973333 Test accuracy: 0.957\n",
      "3 Train accuracy: 0.98 Test accuracy: 0.9614\n",
      "4 Train accuracy: 0.946667 Test accuracy: 0.961\n",
      "5 Train accuracy: 0.973333 Test accuracy: 0.9622\n",
      "6 Train accuracy: 0.98 Test accuracy: 0.9695\n",
      "7 Train accuracy: 0.966667 Test accuracy: 0.9697\n",
      "8 Train accuracy: 0.953333 Test accuracy: 0.9693\n",
      "9 Train accuracy: 0.986667 Test accuracy: 0.9704\n"
     ]
    }
   ],
   "source": [
    "n_epochs = 10\n",
    "batch_size = 150\n",
    "\n",
    "with tf.Session() as sess:\n",
    "    sess.run(tf.global_variables_initializer())\n",
    "    for epoch in range(n_epochs):\n",
    "        for iteration in range(mnist.train.num_examples // batch_size):\n",
    "            X_batch, y_batch = mnist.train.next_batch(batch_size)\n",
    "            X_batch = X_batch.reshape((-1, n_steps, n_inputs))\n",
    "            sess.run(training_op, feed_dict={X: X_batch, y: y_batch})\n",
    "        acc_train = accuracy.eval(feed_dict={X: X_batch, y: y_batch})\n",
    "        acc_test = accuracy.eval(feed_dict={X: X_test, y: y_test})\n",
    "        print(epoch, \"Train accuracy:\", acc_train, \"Test accuracy:\", acc_test)"
   ]
  },
  {
   "cell_type": "markdown",
   "metadata": {},
   "source": [
    "# Training to Predict Time series"
   ]
  },
  {
   "cell_type": "markdown",
   "metadata": {},
   "source": [
    "- artifical time series데이터를 만들어서 rnn을 이용하여 time series 모델을 구축해보자."
   ]
  },
  {
   "cell_type": "code",
   "execution_count": 86,
   "metadata": {
    "collapsed": true
   },
   "outputs": [],
   "source": [
    "import matplotlib.pyplot as plt\n",
    "%matplotlib inline"
   ]
  },
  {
   "cell_type": "code",
   "execution_count": 87,
   "metadata": {
    "collapsed": true
   },
   "outputs": [],
   "source": [
    "t_min, t_max=0, 30\n",
    "resolution=0.1\n",
    "\n",
    "np.random.seed(1234)\n",
    "\n",
    "def time_series(t):\n",
    "    return t*np.sin(t)/3+2*np.sin(t*5)\n",
    "\n",
    "def next_batch(batch_size, n_steps):\n",
    "    t0=np.random.rand(batch_size,1)*(t_max-t_min-n_steps*resolution)\n",
    "    Ts=t0+np.arange(0., n_steps+1)*resolution\n",
    "    ys=time_series(Ts)\n",
    "    \n",
    "    return ys[:,:-1].reshape(-1, n_steps, 1), ys[:,1:].reshape(-1, n_steps, 1)"
   ]
  },
  {
   "cell_type": "code",
   "execution_count": 88,
   "metadata": {},
   "outputs": [
    {
     "data": {
      "text/plain": [
       "<matplotlib.text.Text at 0x7fe3eb7ab668>"
      ]
     },
     "execution_count": 88,
     "metadata": {},
     "output_type": "execute_result"
    },
    {
     "data": {
      "image/png": "[encoded data removed]",
      "text/plain": [
       "<matplotlib.figure.Figure at 0x7fe3f04a17b8>"
      ]
     },
     "metadata": {},
     "output_type": "display_data"
    }
   ],
   "source": [
    "t=np.linspace(t_min, t_max, int((t_max-t_min)/resolution))\n",
    "\n",
    "n_steps=20\n",
    "t_instance=np.linspace(12.2, 12.2+resolution*(n_steps+1), n_steps+1)\n",
    "\n",
    "plt.figure(figsize=(12,4))\n",
    "plt.subplot(121)\n",
    "plt.title('A time series (generated)', fontsize=14)\n",
    "plt.plot(t, time_series(t), label=r\"$t .\\sin(t)/3 + 2 . \\sin(5t)$\")\n",
    "plt.plot(t_instance[:-1], time_series(t_instance[:-1]), 'b-', linewidth=3,\n",
    "        label='A training instance')\n",
    "plt.legend(loc='lower left', fontsize=14)\n",
    "plt.axis([0,30,-17,13])\n",
    "plt.xlabel('Time')\n",
    "plt.ylabel('Value')\n",
    "\n",
    "plt.subplot(122)\n",
    "plt.title('A training instance', fontsize=14)\n",
    "plt.plot(t_instance[:-1], time_series(t_instance[:-1]), 'bo', markersize=10, label='instance')\n",
    "plt.plot(t_instance[1:], time_series(t_instance[1:]), 'r*', markersize=10, label='target')\n",
    "plt.legend(loc='upper left', fontsize=14)\n",
    "plt.xlabel('Time')"
   ]
  },
  {
   "cell_type": "code",
   "execution_count": 89,
   "metadata": {
    "collapsed": true
   },
   "outputs": [],
   "source": [
    "X_batch, y_batch=next_batch(1, n_steps)"
   ]
  },
  {
   "cell_type": "code",
   "execution_count": 90,
   "metadata": {},
   "outputs": [
    {
     "data": {
      "text/plain": [
       "array([[ 0.56524711,  0.30812751],\n",
       "       [ 0.30812751, -0.33272992],\n",
       "       [-0.33272992, -1.17445601],\n",
       "       [-1.17445601, -1.98100654],\n",
       "       [-1.98100654, -2.52115636],\n",
       "       [-2.52115636, -2.62536421],\n",
       "       [-2.62536421, -2.22758414],\n",
       "       [-2.22758414, -1.38178424],\n",
       "       [-1.38178424, -0.24912546],\n",
       "       [-0.24912546,  0.94106392],\n",
       "       [ 0.94106392,  1.9469674 ],\n",
       "       [ 1.9469674 ,  2.57298539],\n",
       "       [ 2.57298539,  2.71709827],\n",
       "       [ 2.71709827,  2.39529672],\n",
       "       [ 2.39529672,  1.73710381],\n",
       "       [ 1.73710381,  0.95329129],\n",
       "       [ 0.95329129,  0.28370056],\n",
       "       [ 0.28370056, -0.06204979],\n",
       "       [-0.06204979,  0.04355358],\n",
       "       [ 0.04355358,  0.61415552]])"
      ]
     },
     "execution_count": 90,
     "metadata": {},
     "output_type": "execute_result"
    }
   ],
   "source": [
    "np.c_[X_batch[0], y_batch[0]]"
   ]
  },
  {
   "cell_type": "markdown",
   "metadata": {},
   "source": [
    "<img src='./img/time_series_rnn.png'>\n",
    "<h4><center>RNN with time series modelling</center></h4>"
   ]
  },
  {
   "cell_type": "code",
   "execution_count": 75,
   "metadata": {
    "collapsed": true
   },
   "outputs": [],
   "source": [
    "reset_graph()\n",
    "\n",
    "n_steps=20\n",
    "n_inputs=1\n",
    "n_neurons=100\n",
    "n_outputs=1\n",
    "learning_rate=0.001\n",
    "\n",
    "\n",
    "X=tf.placeholder(tf.float32, [None, n_steps, n_inputs])\n",
    "y=tf.placeholder(tf.float32, [None, n_steps, n_inputs])\n",
    "\n",
    "with tf.name_scope('RNN'):\n",
    "    cell=tf.contrib.rnn.BasicRNNCell(num_units=n_neurons, activation=tf.nn.relu)\n",
    "    rnn_outputs, states=tf.nn.dynamic_rnn(cell, X, dtype=tf.float32)\n",
    "stacked_rnn_outputs=tf.reshape(rnn_outputs, [-1, n_neurons])\n",
    "\n",
    "with tf.name_scope('flc'):\n",
    "    stacked_outputs=tf.layers.dense(stacked_rnn_outputs, n_outputs)\n",
    "outputs=tf.reshape(stacked_outputs, [-1, n_steps, n_outputs])\n",
    "\n",
    "with tf.name_scope('training_op'):\n",
    "    loss=tf.reduce_mean(tf.square(outputs-y))\n",
    "    optimizer=tf.train.AdamOptimizer(learning_rate=learning_rate)\n",
    "    training_op=optimizer.minimize(loss)\n",
    "    \n",
    "filewriter=tf.summary.FileWriter('./tf_logs/rnn_with_fully_connected_layer', tf.get_default_graph())"
   ]
  },
  {
   "cell_type": "code",
   "execution_count": 91,
   "metadata": {},
   "outputs": [
    {
     "name": "stdout",
     "output_type": "stream",
     "text": [
      "0 \tMSE: 19.8912\n",
      "100 \tMSE: 0.454091\n",
      "200 \tMSE: 0.24538\n",
      "300 \tMSE: 0.11456\n",
      "400 \tMSE: 0.0846535\n",
      "500 \tMSE: 0.0522733\n",
      "600 \tMSE: 0.0604782\n",
      "700 \tMSE: 0.0504652\n",
      "800 \tMSE: 0.0482148\n",
      "900 \tMSE: 0.0627034\n",
      "1000 \tMSE: 0.0514763\n",
      "1100 \tMSE: 0.0434323\n",
      "1200 \tMSE: 0.051179\n",
      "1300 \tMSE: 0.0507836\n",
      "1400 \tMSE: 0.0400549\n"
     ]
    }
   ],
   "source": [
    "init=tf.global_variables_initializer()\n",
    "saver=tf.train.Saver()\n",
    "\n",
    "n_iterations=1500\n",
    "batch_size=50\n",
    "\n",
    "with tf.Session() as sess:\n",
    "    init.run()\n",
    "    for iteration in range(n_iterations):\n",
    "        X_batch, y_batch=next_batch(batch_size, n_steps)\n",
    "        sess.run(training_op, feed_dict={X:X_batch, y:y_batch})\n",
    "        if iteration % 100 ==0:\n",
    "            mse=loss.eval(feed_dict={X:X_batch, y:y_batch})\n",
    "            print(iteration, \"\\tMSE:\", mse)\n",
    "            \n",
    "    X_new=time_series(np.array(t_instance[:-1].reshape(-1, n_steps, n_inputs)))\n",
    "    y_pred=sess.run(outputs, feed_dict={X:X_new})\n",
    "    \n",
    "    saver.save(sess, './tf_ckpt/my_time_series_model')"
   ]
  },
  {
   "cell_type": "code",
   "execution_count": 92,
   "metadata": {},
   "outputs": [
    {
     "data": {
      "text/plain": [
       "array([[[-3.45526361],\n",
       "        [-2.52750373],\n",
       "        [-1.23513067],\n",
       "        [ 0.80045998],\n",
       "        [ 2.24713492],\n",
       "        [ 3.08726001],\n",
       "        [ 3.39479327],\n",
       "        [ 3.3776207 ],\n",
       "        [ 2.91415   ],\n",
       "        [ 2.22968554],\n",
       "        [ 1.69632888],\n",
       "        [ 1.60580647],\n",
       "        [ 1.93394208],\n",
       "        [ 2.76855421],\n",
       "        [ 3.90190172],\n",
       "        [ 5.12182999],\n",
       "        [ 6.13764   ],\n",
       "        [ 6.70268536],\n",
       "        [ 6.68567228],\n",
       "        [ 6.11473274]]], dtype=float32)"
      ]
     },
     "execution_count": 92,
     "metadata": {},
     "output_type": "execute_result"
    }
   ],
   "source": [
    "y_pred"
   ]
  },
  {
   "cell_type": "code",
   "execution_count": 95,
   "metadata": {},
   "outputs": [
    {
     "data": {
      "text/plain": [
       "<matplotlib.text.Text at 0x7fe3eb5f3940>"
      ]
     },
     "execution_count": 95,
     "metadata": {},
     "output_type": "execute_result"
    },
    {
     "data": {
      "image/png": "[encoded data removed]",
      "text/plain": [
       "<matplotlib.figure.Figure at 0x7fe3eb71c8d0>"
      ]
     },
     "metadata": {},
     "output_type": "display_data"
    }
   ],
   "source": [
    "plt.title(\"Testing the model\", fontsize=14)\n",
    "plt.plot(t_instance[:-1], time_series(t_instance[:-1]), \"bo\", markersize=10, label=\"instance\")\n",
    "plt.plot(t_instance[1:], time_series(t_instance[1:]), \"r*\", markersize=10, label=\"target\")\n",
    "plt.plot(t_instance[1:], y_pred[0,:,0], \"k.\", markersize=10, label=\"prediction\")\n",
    "plt.legend(loc=\"upper left\")\n",
    "plt.xlabel(\"Time\")"
   ]
  },
  {
   "cell_type": "markdown",
   "metadata": {},
   "source": [
    "# Generating a creative new sequence"
   ]
  },
  {
   "cell_type": "markdown",
   "metadata": {},
   "source": [
    "- 두개의 sequence를 시작으로 위에서 학습한 rnn을 이용하여 새로운 sequence를 생성한다."
   ]
  },
  {
   "cell_type": "code",
   "execution_count": 97,
   "metadata": {},
   "outputs": [
    {
     "name": "stdout",
     "output_type": "stream",
     "text": [
      "INFO:tensorflow:Restoring parameters from ./tf_ckpt/my_time_series_model\n"
     ]
    },
    {
     "data": {
      "text/plain": [
       "<matplotlib.text.Text at 0x7fe449fc1438>"
      ]
     },
     "execution_count": 97,
     "metadata": {},
     "output_type": "execute_result"
    },
    {
     "data": {
      "image/png": "[encoded data removed]",
      "text/plain": [
       "<matplotlib.figure.Figure at 0x7fe3eb536438>"
      ]
     },
     "metadata": {},
     "output_type": "display_data"
    }
   ],
   "source": [
    "with tf.Session() as sess:\n",
    "    saver.restore(sess, './tf_ckpt/my_time_series_model')\n",
    "    \n",
    "    sequence1=[0. for i in range(n_steps)] ##[0,0,0, ...,0]인 sequence1   \n",
    "    for iteration in range(len(t)-n_steps):\n",
    "        X_batch=np.array(sequence1[-n_steps:]).reshape(1, n_steps, 1)\n",
    "        y_pred=sess.run(outputs, feed_dict={X:X_batch})\n",
    "        sequence1.append(y_pred[0,-1,0])\n",
    "        ### 가장 마지막 값이 training set에 없는 예측값이므로, 이를 계속 \n",
    "        ### iteration 마다 append 해준다.\n",
    "    \n",
    "    sequence2=[time_series(i*resolution+t_min+(t_max-t_min/3)) for i in range(n_steps)]\n",
    "    ##위에서 정의한 time_series로 만든 sequence\n",
    "    \n",
    "    for iteration in range(len(t)-n_steps):\n",
    "        X_batch=np.array(sequence2[-n_steps:]).reshape(-1, n_steps, 1)\n",
    "        y_pred=sess.run(outputs, feed_dict={X:X_batch})\n",
    "        sequence2.append(y_pred[0,-1,0])\n",
    "\n",
    "\n",
    "plt.figure(figsize=(11,4))\n",
    "plt.subplot(121)\n",
    "plt.plot(t, sequence1, \"b-\")\n",
    "plt.plot(t[:n_steps], sequence1[:n_steps], \"r-\", linewidth=3)\n",
    "plt.xlabel(\"Time\")\n",
    "plt.ylabel(\"Value\")\n",
    "\n",
    "plt.subplot(122)\n",
    "plt.plot(t, sequence2, \"b-\")\n",
    "plt.plot(t[:n_steps], sequence2[:n_steps], \"r-\", linewidth=3)\n",
    "plt.xlabel(\"Time\")\n",
    "    "
   ]
  },
  {
   "cell_type": "markdown",
   "metadata": {},
   "source": [
    "# Deep RNN"
   ]
  },
  {
   "cell_type": "markdown",
   "metadata": {},
   "source": [
    "### MultiRNNCell"
   ]
  },
  {
   "cell_type": "markdown",
   "metadata": {},
   "source": [
    "![multiRNNcell](./img/multilayer_rnn.png)"
   ]
  },
  {
   "cell_type": "markdown",
   "metadata": {},
   "source": [
    "- multiRNNCell도 일반적인 RNNCell코드와 비슷하고 딱 한줄만 더 추가하면 된다.\n",
    "\n",
    "### multi_layer_cell=tf.contrib.rnn.MultiRNNCell(layers)\n",
    "\n",
    "- 여기서 대신에, layers를 tf.contrib.rnn.BasicRNNCell을 쌓고 싶은 갯수만큼의 cell이 담긴 list이다. 이해가 안된다면 아래의 코드로 확인해 보자.\n"
   ]
  },
  {
   "cell_type": "code",
   "execution_count": 98,
   "metadata": {
    "collapsed": true
   },
   "outputs": [],
   "source": [
    "reset_graph()\n",
    "\n",
    "n_inputs=2\n",
    "n_steps=5\n",
    "n_neurons=100\n",
    "n_layers=3\n",
    "\n",
    "X=tf.placeholder(tf.float32, [None, n_steps, n_inputs])\n",
    "layers=[tf.contrib.rnn.BasicRNNCell(num_units=n_neurons) \n",
    "        for layer in range(n_layers)] ### 이부분이 새로 추가\n",
    "multi_layer_cell=tf.contrib.rnn.MultiRNNCell(layers) ### 이부분이 새로 추가\n",
    "outputs, states=tf.nn.dynamic_rnn(multi_layer_cell, X, dtype=tf.float32)"
   ]
  },
  {
   "cell_type": "code",
   "execution_count": 99,
   "metadata": {},
   "outputs": [
    {
     "data": {
      "text/plain": [
       "(<tf.Tensor 'rnn/while/Exit_2:0' shape=(?, 100) dtype=float32>,\n",
       " <tf.Tensor 'rnn/while/Exit_3:0' shape=(?, 100) dtype=float32>,\n",
       " <tf.Tensor 'rnn/while/Exit_4:0' shape=(?, 100) dtype=float32>)"
      ]
     },
     "execution_count": 99,
     "metadata": {},
     "output_type": "execute_result"
    }
   ],
   "source": [
    "states"
   ]
  },
  {
   "cell_type": "code",
   "execution_count": 101,
   "metadata": {},
   "outputs": [],
   "source": [
    "init=tf.global_variables_initializer()\n",
    "X_batch=np.random.rand(2, n_steps, n_inputs)\n",
    "\n",
    "with tf.Session() as sess:\n",
    "    init.run()\n",
    "    outputs_val, states_val=sess.run([outputs, states], feed_dict={X:X_batch})"
   ]
  },
  {
   "cell_type": "code",
   "execution_count": 102,
   "metadata": {},
   "outputs": [
    {
     "data": {
      "text/plain": [
       "(2, 5, 100)"
      ]
     },
     "execution_count": 102,
     "metadata": {},
     "output_type": "execute_result"
    }
   ],
   "source": [
    "outputs_val.shape"
   ]
  },
  {
   "cell_type": "markdown",
   "metadata": {},
   "source": [
    "# LSTM"
   ]
  },
  {
   "cell_type": "markdown",
   "metadata": {},
   "source": [
    "- 이번에는 lstm을 이용해서 위에서 진행한 mnist classification을 해보자.\n",
    "- rnn과 크게 다르지 않다. cell을 구축할 때, basicRNNCell 에서 basicLSTMCell\n",
    "  로 바꿔주면 된다."
   ]
  },
  {
   "cell_type": "code",
   "execution_count": 107,
   "metadata": {},
   "outputs": [],
   "source": [
    "reset_graph()\n",
    "\n",
    "lstm_cell=tf.contrib.rnn.BasicLSTMCell(num_units=n_neurons)"
   ]
  },
  {
   "cell_type": "markdown",
   "metadata": {},
   "source": [
    "tf.contrib.rnn.BasicLSTMCell(num_units, forget_bias=1.0, state_is_tuple=True, activation=None, reuse=None)"
   ]
  },
  {
   "cell_type": "markdown",
   "metadata": {},
   "source": [
    "- num_units : the number of hidden neurons in a cell\n",
    "- forget_bias : biases of the forget gate in order to reduce the scale of forgetting in the beginning of the training\n",
    "- state_is_tuple : If True, accepted and returned states are 2-tuples of the 'c_state' and the 'h_state', where 'c' is the hidden state(cell state) and 'h' is the output."
   ]
  },
  {
   "cell_type": "code",
   "execution_count": 108,
   "metadata": {
    "collapsed": true
   },
   "outputs": [],
   "source": [
    "tf.contrib.rnn.BasicLSTMCell?"
   ]
  },
  {
   "cell_type": "markdown",
   "metadata": {},
   "source": [
    "<img src='./img/sequence_classifier.png'>\n",
    "<h4><center>sequence_classifier</center></h4>"
   ]
  },
  {
   "cell_type": "code",
   "execution_count": 103,
   "metadata": {
    "collapsed": true
   },
   "outputs": [],
   "source": [
    "n_steps=28\n",
    "n_inputs=28\n",
    "n_neurons=150\n",
    "n_outputs=10\n",
    "n_layers=3\n",
    "learning_rate=0.001"
   ]
  },
  {
   "cell_type": "code",
   "execution_count": 150,
   "metadata": {},
   "outputs": [],
   "source": [
    "reset_graph()\n",
    "\n",
    "X=tf.placeholder(tf.float32, [None, n_steps, n_inputs])\n",
    "y=tf.placeholder(tf.int32, [None])\n",
    "\n",
    "lstm_cells=[tf.contrib.rnn.BasicLSTMCell(num_units=n_neurons) for \n",
    "            layer in range(n_layers)]\n",
    "multi_cell=tf.contrib.rnn.MultiRNNCell(lstm_cells)\n",
    "outputs, states=tf.nn.dynamic_rnn(multi_cell, X, dtype=tf.float32)\n",
    "\n",
    "top_layer_h_state=states[-1][1]\n",
    "logits=tf.layers.dense(top_layer_h_state, n_outputs)\n",
    "xentropy=tf.nn.sparse_softmax_cross_entropy_with_logits(labels=y,\n",
    "                                                       logits=logits)\n",
    "loss=tf.reduce_mean(xentropy, name='loss')\n",
    "optimizer=tf.train.AdamOptimizer(learning_rate=learning_rate)\n",
    "training_op=optimizer.minimize(loss)\n",
    "correct=tf.nn.in_top_k(logits, y, 1)\n",
    "accuracy=tf.reduce_mean(tf.cast(correct, tf.float32))"
   ]
  },
  {
   "cell_type": "code",
   "execution_count": 151,
   "metadata": {},
   "outputs": [
    {
     "data": {
      "text/plain": [
       "(LSTMStateTuple(c=<tf.Tensor 'rnn/while/Exit_2:0' shape=(?, 150) dtype=float32>, h=<tf.Tensor 'rnn/while/Exit_3:0' shape=(?, 150) dtype=float32>),\n",
       " LSTMStateTuple(c=<tf.Tensor 'rnn/while/Exit_4:0' shape=(?, 150) dtype=float32>, h=<tf.Tensor 'rnn/while/Exit_5:0' shape=(?, 150) dtype=float32>),\n",
       " LSTMStateTuple(c=<tf.Tensor 'rnn/while/Exit_6:0' shape=(?, 150) dtype=float32>, h=<tf.Tensor 'rnn/while/Exit_7:0' shape=(?, 150) dtype=float32>))"
      ]
     },
     "execution_count": 151,
     "metadata": {},
     "output_type": "execute_result"
    }
   ],
   "source": [
    "states"
   ]
  },
  {
   "cell_type": "code",
   "execution_count": 152,
   "metadata": {},
   "outputs": [
    {
     "data": {
      "text/plain": [
       "<tf.Tensor 'rnn/while/Exit_7:0' shape=(?, 150) dtype=float32>"
      ]
     },
     "execution_count": 152,
     "metadata": {},
     "output_type": "execute_result"
    }
   ],
   "source": [
    "top_layer_h_state"
   ]
  },
  {
   "cell_type": "code",
   "execution_count": 153,
   "metadata": {},
   "outputs": [
    {
     "name": "stdout",
     "output_type": "stream",
     "text": [
      "0 train accuracy: 0.96 test_accuracy: 0.9532\n",
      "1 train accuracy: 0.986667 test_accuracy: 0.9717\n",
      "2 train accuracy: 0.993333 test_accuracy: 0.978\n",
      "3 train accuracy: 0.98 test_accuracy: 0.9803\n",
      "4 train accuracy: 0.986667 test_accuracy: 0.9834\n",
      "5 train accuracy: 0.973333 test_accuracy: 0.9851\n",
      "6 train accuracy: 0.993333 test_accuracy: 0.9856\n",
      "7 train accuracy: 1.0 test_accuracy: 0.9858\n",
      "8 train accuracy: 1.0 test_accuracy: 0.9863\n",
      "9 train accuracy: 1.0 test_accuracy: 0.9872\n"
     ]
    }
   ],
   "source": [
    "n_epochs=10\n",
    "batch_size=150\n",
    "\n",
    "X_test=mnist.test.images.reshape((-1, n_steps, n_inputs))\n",
    "y_test=mnist.test.labels\n",
    "\n",
    "init=tf.global_variables_initializer()\n",
    "with tf.Session() as sess:\n",
    "    init.run()\n",
    "    for epoch in range(n_epochs):\n",
    "        for iteration in range(int(mnist.train.num_examples//batch_size)):\n",
    "            X_batch, y_batch=mnist.train.next_batch(batch_size)\n",
    "            X_batch=X_batch.reshape((batch_size, n_steps, n_inputs))\n",
    "            sess.run(training_op, feed_dict={X:X_batch, y:y_batch})\n",
    "        acc_train=accuracy.eval(feed_dict={X:X_batch, y:y_batch})\n",
    "        acc_test=accuracy.eval(feed_dict={X:X_test, y:y_test})\n",
    "        print(epoch, 'train accuracy:', acc_train, 'test_accuracy:', acc_test)\n"
   ]
  },
  {
   "cell_type": "markdown",
   "metadata": {},
   "source": [
    "# Peephole Connection"
   ]
  },
  {
   "cell_type": "markdown",
   "metadata": {},
   "source": [
    "- To implement peephole connections, use LSTMCell instead of BasicLSTMCell"
   ]
  },
  {
   "cell_type": "code",
   "execution_count": 154,
   "metadata": {
    "collapsed": true
   },
   "outputs": [],
   "source": [
    "### without using peephole connections\n",
    "lstm_cell=tf.contrib.rnn.BasicLSTMCell(num_units=n_neurons)\n",
    "\n",
    "### with implementing peephole connections\n",
    "lstm_cell=tf.contrib.rnn.LSTMCell(num_units=n_neurons, use_peepholes=True)"
   ]
  },
  {
   "cell_type": "markdown",
   "metadata": {},
   "source": [
    "# word embedding "
   ]
  },
  {
   "cell_type": "markdown",
   "metadata": {},
   "source": [
    "This section is based on TensorFlow's [Word2Vec tutorial](https://www.tensorflow.org/versions/r0.11/tutorials/word2vec/index.html)."
   ]
  },
  {
   "cell_type": "code",
   "execution_count": 157,
   "metadata": {
    "collapsed": true
   },
   "outputs": [],
   "source": [
    "import errno\n",
    "import os\n",
    "import zipfile\n",
    "import urllib.request"
   ]
  },
  {
   "cell_type": "markdown",
   "metadata": {},
   "source": [
    "## Fetch the data"
   ]
  },
  {
   "cell_type": "code",
   "execution_count": 182,
   "metadata": {},
   "outputs": [],
   "source": [
    "WORDS_PATH = './datasets/words'\n",
    "WORDS_URL = 'http://mattmahoney.net/dc/text8.zip'\n",
    "\n",
    "def mkdir_p(path):\n",
    "    \"\"\"Create directories, ok if they already exist\"\"\"\n",
    "        \n",
    "    if os.path.isdir(path):\n",
    "        print('%s already exist' %(path))\n",
    "    else:\n",
    "        os.makedirs(path)\n",
    "        print('successfully create directories')\n",
    "        \n",
    "def fetch_words_data(words_url=WORDS_URL, words_path=WORDS_PATH):\n",
    "    mkdir_p(words_path)\n",
    "    zip_path=os.path.join(words_path, 'words.zip')\n",
    "    if not os.path.isfile(zip_path):\n",
    "        urllib.request.urlretrieve(words_url, zip_path)\n",
    "    with zipfile.ZipFile(zip_path) as f:\n",
    "        data=f.read(f.namelist()[0])\n",
    "        return data.decode('ascii').split()\n",
    "        "
   ]
  },
  {
   "cell_type": "code",
   "execution_count": 185,
   "metadata": {},
   "outputs": [
    {
     "name": "stdout",
     "output_type": "stream",
     "text": [
      "./datasets/words already exist\n"
     ]
    }
   ],
   "source": [
    "words=fetch_words_data()"
   ]
  },
  {
   "cell_type": "code",
   "execution_count": 186,
   "metadata": {},
   "outputs": [
    {
     "data": {
      "text/plain": [
       "['anarchism', 'originated', 'as', 'a', 'term']"
      ]
     },
     "execution_count": 186,
     "metadata": {},
     "output_type": "execute_result"
    }
   ],
   "source": [
    "words[:5]"
   ]
  },
  {
   "cell_type": "code",
   "execution_count": 187,
   "metadata": {},
   "outputs": [
    {
     "data": {
      "text/plain": [
       "17005207"
      ]
     },
     "execution_count": 187,
     "metadata": {},
     "output_type": "execute_result"
    }
   ],
   "source": [
    "len(words)"
   ]
  },
  {
   "cell_type": "markdown",
   "metadata": {},
   "source": [
    "## Build the dictionary"
   ]
  },
  {
   "cell_type": "markdown",
   "metadata": {},
   "source": [
    "step2 : build the dictionary and replace rare words with UNK token"
   ]
  },
  {
   "cell_type": "markdown",
   "metadata": {},
   "source": [
    "- \"UNK\" : unknown words"
   ]
  },
  {
   "cell_type": "code",
   "execution_count": 193,
   "metadata": {},
   "outputs": [],
   "source": [
    "from collections import Counter\n",
    "\n",
    "vocabulary_size=50000\n",
    "vocabulary=[('UNK',None)]+Counter(words).most_common(vocabulary_size-1)\n",
    "vocabulary=np.array([word for word,_ in vocabulary])\n",
    "# generate dictionary using vocabulary (여기서 code는 위의 vocabulary의 순서를 의미함)\n",
    "dictionary={word:code for code, word in enumerate(vocabulary)}\n",
    "data=np.array([dictionary.get(word, 0) for word in words])"
   ]
  },
  {
   "cell_type": "code",
   "execution_count": 194,
   "metadata": {},
   "outputs": [
    {
     "data": {
      "text/plain": [
       "array([5235, 3083,   12, ...,   22,   16,   73])"
      ]
     },
     "execution_count": 194,
     "metadata": {},
     "output_type": "execute_result"
    }
   ],
   "source": [
    "data"
   ]
  },
  {
   "cell_type": "code",
   "execution_count": 195,
   "metadata": {
    "collapsed": true
   },
   "outputs": [
    {
     "data": {
      "text/plain": [
       "{'coefficient': 7891,\n",
       " 'flanagan': 35948,\n",
       " 'utmost': 20936,\n",
       " 'brabham': 26461,\n",
       " 'fusiliers': 45877,\n",
       " 'disseminated': 22239,\n",
       " 'cucurbitaceae': 49393,\n",
       " 'turmeric': 44612,\n",
       " 'oft': 16633,\n",
       " 'biochemists': 39749,\n",
       " 'feist': 33552,\n",
       " 'reiterated': 25898,\n",
       " 'hindustani': 23635,\n",
       " 'domed': 25707,\n",
       " 'heero': 36448,\n",
       " 'elmer': 19297,\n",
       " 'indoctrination': 41482,\n",
       " 'cabins': 47879,\n",
       " 'packers': 11866,\n",
       " 'aromatherapy': 23331,\n",
       " 'locations': 3078,\n",
       " 'aldosterone': 41958,\n",
       " 'flamsteed': 19687,\n",
       " 'unofficially': 16360,\n",
       " 'brimstone': 45244,\n",
       " 'analyzes': 35201,\n",
       " 'kabbalah': 7691,\n",
       " 'rink': 19111,\n",
       " 'declassified': 19958,\n",
       " 'revere': 21794,\n",
       " 'misses': 19959,\n",
       " 'commensurate': 41483,\n",
       " 'spread': 1346,\n",
       " 'momentary': 35782,\n",
       " 'vinyl': 17009,\n",
       " 'luisa': 32815,\n",
       " 'bottles': 13303,\n",
       " 'operational': 4717,\n",
       " 'csc': 38226,\n",
       " 'approximating': 28132,\n",
       " 'monmouth': 16536,\n",
       " 'randle': 45245,\n",
       " 'commander': 2089,\n",
       " 'tropical': 2922,\n",
       " 'volante': 47136,\n",
       " 'hubris': 26185,\n",
       " 'groundbreaking': 16011,\n",
       " 'colored': 5388,\n",
       " 'shmuel': 40562,\n",
       " 'grandeur': 22893,\n",
       " 'modell': 22700,\n",
       " 'devlin': 45380,\n",
       " 'swapping': 27811,\n",
       " 'absalom': 16583,\n",
       " 'seif': 47634,\n",
       " 'inspect': 24403,\n",
       " 'limiting': 7375,\n",
       " 'gene': 2346,\n",
       " 'exporter': 16912,\n",
       " 'pastimes': 42437,\n",
       " 'zubaydah': 34367,\n",
       " 'parted': 20980,\n",
       " 'cass': 31681,\n",
       " 'clearance': 16862,\n",
       " 'nod': 30314,\n",
       " 'useable': 42434,\n",
       " 'deprogramming': 18852,\n",
       " 'novella': 11816,\n",
       " 'bombard': 39752,\n",
       " 'mountaineers': 46516,\n",
       " 'omission': 19688,\n",
       " 'evaluate': 10604,\n",
       " 'posen': 45878,\n",
       " 'raspberry': 31425,\n",
       " 'originate': 9256,\n",
       " 'beetles': 13538,\n",
       " 'upa': 41959,\n",
       " 'zwicker': 37849,\n",
       " 'pileser': 28843,\n",
       " 'podcast': 23737,\n",
       " 'anglo': 2611,\n",
       " 'afternoons': 42435,\n",
       " 'tip': 5526,\n",
       " 'witherspoon': 48586,\n",
       " 'holst': 41038,\n",
       " 'overlooks': 34368,\n",
       " 'politics': 822,\n",
       " 'mindfulness': 37431,\n",
       " 'bombed': 13035,\n",
       " 'mouth': 2825,\n",
       " 'chipset': 21008,\n",
       " 'baal': 17838,\n",
       " 'disc': 2546,\n",
       " 'bmp': 25299,\n",
       " 'shoreline': 16267,\n",
       " 'caiman': 29934,\n",
       " 'blackfoot': 35783,\n",
       " 'doyle': 10308,\n",
       " 'magnitudes': 18275,\n",
       " 'metaphors': 13383,\n",
       " 'memes': 9577,\n",
       " 'bootable': 44620,\n",
       " 'parisians': 47137,\n",
       " 'clients': 6036,\n",
       " 'exclusively': 3419,\n",
       " 'dash': 12182,\n",
       " 'customs': 3852,\n",
       " 'architecture': 1352,\n",
       " 'dreidel': 47138,\n",
       " 'programmers': 5382,\n",
       " 'doctorate': 9826,\n",
       " 'amoral': 35784,\n",
       " 'satan': 6263,\n",
       " 'richness': 25098,\n",
       " 'morphogenesis': 29577,\n",
       " 'fahrenheit': 10699,\n",
       " 'night': 807,\n",
       " 'miscegenation': 46095,\n",
       " 'hmos': 44823,\n",
       " 'nobi': 47881,\n",
       " 'merchants': 5907,\n",
       " 'tone': 2795,\n",
       " 'guarantee': 7620,\n",
       " 'hypomanic': 32344,\n",
       " 'hibiscus': 49662,\n",
       " 'replicator': 29578,\n",
       " 'beatrice': 15919,\n",
       " 'oceans': 8240,\n",
       " 'sorrow': 17146,\n",
       " 'ablaze': 34083,\n",
       " 'chalk': 14375,\n",
       " 'fabricius': 34948,\n",
       " 'precondition': 36781,\n",
       " 'conflict': 1218,\n",
       " 'heavyweight': 13942,\n",
       " 'incursion': 28719,\n",
       " 'fairway': 42994,\n",
       " 'apa': 21303,\n",
       " 'prize': 810,\n",
       " 'limassol': 40156,\n",
       " 'subordination': 35252,\n",
       " 'surveillance': 7865,\n",
       " 'suspicious': 10824,\n",
       " 'uphold': 18904,\n",
       " 'dissociated': 32586,\n",
       " 'tracing': 11024,\n",
       " 'summary': 3887,\n",
       " 'stoughton': 43535,\n",
       " 'folkloric': 32171,\n",
       " 'rossellini': 26186,\n",
       " 'kennedy': 2464,\n",
       " 'wave': 1903,\n",
       " 'rowling': 12931,\n",
       " 'revision': 5710,\n",
       " 'akm': 39759,\n",
       " 'timur': 15876,\n",
       " 'interfered': 23848,\n",
       " 'listener': 14567,\n",
       " 'marbury': 21152,\n",
       " 'standardizing': 41960,\n",
       " 'fujiwara': 10434,\n",
       " 'relational': 9729,\n",
       " 'eclipsed': 16013,\n",
       " 'instruments': 1576,\n",
       " 'dazed': 45247,\n",
       " 'descriptor': 19752,\n",
       " 'relaxed': 11969,\n",
       " 'superscription': 46518,\n",
       " 'viennese': 23532,\n",
       " 'lillian': 16456,\n",
       " 'paracetamol': 33296,\n",
       " 'astarte': 35785,\n",
       " 'collection': 944,\n",
       " 'genres': 3977,\n",
       " 'bonaparte': 8459,\n",
       " 'togo': 15609,\n",
       " 'huntley': 37432,\n",
       " 'ray': 1962,\n",
       " 'reserves': 4736,\n",
       " 'celebrates': 15548,\n",
       " 'yauch': 47883,\n",
       " 'sennacherib': 20253,\n",
       " 'impasse': 36449,\n",
       " 'lonsdale': 49395,\n",
       " 'poorer': 13043,\n",
       " 'plague': 4375,\n",
       " 'worried': 14564,\n",
       " 'one': 4,\n",
       " 'ulaanbaatar': 36445,\n",
       " 'jehu': 15385,\n",
       " 'evatt': 47884,\n",
       " 'coffee': 3526,\n",
       " 'weiner': 35518,\n",
       " 'macau': 4524,\n",
       " 'luxurious': 19350,\n",
       " 'taekwondo': 35739,\n",
       " 'kicked': 12598,\n",
       " 'procreation': 40887,\n",
       " 'sick': 6835,\n",
       " 'caroli': 45248,\n",
       " 'aft': 31427,\n",
       " 'chad': 4435,\n",
       " 'martin': 1161,\n",
       " 'adlai': 35253,\n",
       " 'rda': 30531,\n",
       " 'derry': 11645,\n",
       " 'infra': 28630,\n",
       " 'caine': 29579,\n",
       " 'susima': 47135,\n",
       " 'peas': 24402,\n",
       " 'checkpoints': 43542,\n",
       " 'ether': 9467,\n",
       " 'keynesians': 36450,\n",
       " 'fijian': 15980,\n",
       " 'winding': 18498,\n",
       " 'boat': 3216,\n",
       " 'unsuccessfully': 10622,\n",
       " 'concession': 16196,\n",
       " 'dutt': 37101,\n",
       " 'airstrip': 39751,\n",
       " 'skirts': 22780,\n",
       " 'wuxia': 48678,\n",
       " 'dupont': 26052,\n",
       " 'clementine': 31185,\n",
       " 'mannerism': 22515,\n",
       " 'estranged': 27120,\n",
       " 'crist': 38936,\n",
       " 'lito': 49396,\n",
       " 'maneuverable': 41491,\n",
       " 'transcendentalist': 45880,\n",
       " 'islanders': 11348,\n",
       " 'reproduces': 32587,\n",
       " 'aho': 45249,\n",
       " 'nader': 31428,\n",
       " 'meticulous': 28311,\n",
       " 'trillion': 15920,\n",
       " 'lederman': 40563,\n",
       " 'minya': 42943,\n",
       " 'decidedly': 18319,\n",
       " 'boldface': 35786,\n",
       " 'generalisation': 46519,\n",
       " 'frustration': 13831,\n",
       " 'scales': 4802,\n",
       " 'viv': 41040,\n",
       " 'participants': 5111,\n",
       " 'domestication': 19630,\n",
       " 'infringes': 49397,\n",
       " 'ontario': 3143,\n",
       " 'apprenticed': 28937,\n",
       " 'reilly': 13015,\n",
       " 'ziibi': 48679,\n",
       " 'headshot': 48680,\n",
       " 'yuma': 48681,\n",
       " 'honorable': 17413,\n",
       " 'rosalyn': 31186,\n",
       " 'grating': 39363,\n",
       " 'marpol': 43525,\n",
       " 'fleet': 2345,\n",
       " 'hive': 17414,\n",
       " 'klingon': 11539,\n",
       " 'fry': 14260,\n",
       " 'bottle': 7485,\n",
       " 'northwards': 19627,\n",
       " 'baltimore': 3979,\n",
       " 'squaring': 32266,\n",
       " 'tidal': 10921,\n",
       " 'montenegrin': 27635,\n",
       " 'bucky': 22609,\n",
       " 'sur': 7015,\n",
       " 'ellsworth': 26610,\n",
       " 'away': 726,\n",
       " 'isla': 21630,\n",
       " 'lille': 23332,\n",
       " 'blair': 8214,\n",
       " 'transmit': 8302,\n",
       " 'vc': 20712,\n",
       " 'compiles': 37433,\n",
       " 'encyclical': 21468,\n",
       " 'kare': 34958,\n",
       " 'destroyed': 1618,\n",
       " 'sepsis': 41041,\n",
       " 'hallucinatory': 44615,\n",
       " 'manic': 12225,\n",
       " 'briand': 37434,\n",
       " 'unreal': 21227,\n",
       " 'nile': 5523,\n",
       " 'sitcom': 11379,\n",
       " 'mutt': 44073,\n",
       " 'parakeet': 35513,\n",
       " 'cnidarians': 36367,\n",
       " 'compatibility': 6716,\n",
       " 'game': 183,\n",
       " 'brooding': 38227,\n",
       " 'riesz': 45881,\n",
       " 'enterprise': 4833,\n",
       " 'sparrow': 16410,\n",
       " 'boys': 2671,\n",
       " 'mammalian': 15275,\n",
       " 'aptly': 22701,\n",
       " 'cyclopaedia': 32588,\n",
       " 'veiled': 20439,\n",
       " 'declaring': 8569,\n",
       " 'syllabic': 16207,\n",
       " 'set': 178,\n",
       " 'barren': 14623,\n",
       " 'twofold': 34951,\n",
       " 'mimicked': 39540,\n",
       " 'burgos': 31895,\n",
       " 'guards': 6153,\n",
       " 'size': 705,\n",
       " 'beyond': 1209,\n",
       " 'mutiny': 12504,\n",
       " 'kilo': 25837,\n",
       " 'catch': 4576,\n",
       " 'salk': 41484,\n",
       " 'kosar': 34664,\n",
       " 'krahn': 49398,\n",
       " 'residual': 15214,\n",
       " 'yoshinkan': 43375,\n",
       " 'stratified': 27496,\n",
       " 'backed': 4818,\n",
       " 'forebears': 34378,\n",
       " 'fortification': 16314,\n",
       " 'tasmanian': 25099,\n",
       " 'zyklon': 48683,\n",
       " 'briefly': 3127,\n",
       " 'nth': 32816,\n",
       " 'veyron': 36782,\n",
       " 'beano': 27812,\n",
       " 'dniester': 47885,\n",
       " 'auks': 42436,\n",
       " 'arab': 1416,\n",
       " 'howitzer': 19298,\n",
       " 'spinners': 33553,\n",
       " 'fingering': 26053,\n",
       " 'ecologists': 33813,\n",
       " 'honecker': 44074,\n",
       " 'ghazni': 33801,\n",
       " 'emptiness': 24864,\n",
       " 'clicked': 46520,\n",
       " 'mauser': 38228,\n",
       " 'altogether': 6127,\n",
       " 'supporters': 2030,\n",
       " 'humanist': 7977,\n",
       " 'needy': 25761,\n",
       " 'dumb': 15125,\n",
       " 'unix': 3100,\n",
       " 'kangchenjunga': 42997,\n",
       " 'logic': 1264,\n",
       " 'ancestry': 5245,\n",
       " 'rollo': 46521,\n",
       " 'anarcha': 41485,\n",
       " 'anion': 20223,\n",
       " 'checker': 19496,\n",
       " 'pcr': 24300,\n",
       " 'mexico': 1353,\n",
       " 'envision': 31187,\n",
       " 'subiaco': 46522,\n",
       " 'collaborate': 24871,\n",
       " 'today': 358,\n",
       " 'magellan': 11908,\n",
       " 'galeon': 38937,\n",
       " 'benevento': 32817,\n",
       " 'baptists': 9659,\n",
       " 'nster': 23111,\n",
       " 'mackerel': 43527,\n",
       " 'tactical': 6475,\n",
       " 'counsel': 8655,\n",
       " 'horsepower': 13231,\n",
       " 'polyglot': 47880,\n",
       " 'periods': 2390,\n",
       " 'worldview': 15730,\n",
       " 'anterior': 14498,\n",
       " 'line': 269,\n",
       " 'centrosomes': 42438,\n",
       " 'burkert': 25917,\n",
       " 'reaches': 4306,\n",
       " 'starks': 47141,\n",
       " 'isothermal': 43528,\n",
       " 'bushman': 41678,\n",
       " 'fleece': 20167,\n",
       " 'pringle': 47142,\n",
       " 'victim': 4738,\n",
       " 'commotion': 44617,\n",
       " 'arnulf': 33802,\n",
       " 'casting': 8410,\n",
       " 'vienne': 46132,\n",
       " 'graceful': 26462,\n",
       " 'stylistic': 11867,\n",
       " 'yy': 41486,\n",
       " 'awt': 44618,\n",
       " 'read': 963,\n",
       " 'vintage': 10208,\n",
       " 'infantryman': 45987,\n",
       " 'criticising': 31893,\n",
       " 'parable': 26463,\n",
       " 'sustenance': 32621,\n",
       " 'maroger': 26896,\n",
       " 'quota': 18229,\n",
       " 'wandered': 28135,\n",
       " 'sprout': 40158,\n",
       " 'panzer': 12604,\n",
       " 'dualism': 10922,\n",
       " 'al': 419,\n",
       " 'tove': 49399,\n",
       " 'kosovar': 36890,\n",
       " 'twig': 42998,\n",
       " 'tiu': 37435,\n",
       " 'telekinesis': 43529,\n",
       " 'cedric': 30527,\n",
       " 'stellated': 47887,\n",
       " 'spinoff': 29576,\n",
       " 'naturally': 3093,\n",
       " 'fullwidth': 47143,\n",
       " 'shia': 13596,\n",
       " 'mists': 38938,\n",
       " 'lasker': 30492,\n",
       " 'johns': 10973,\n",
       " 'aha': 36783,\n",
       " 'astrodome': 32129,\n",
       " 'cidre': 38576,\n",
       " 'stub': 21149,\n",
       " 'appetite': 16726,\n",
       " 'ivb': 30528,\n",
       " 'anacreon': 28473,\n",
       " 'orcs': 44619,\n",
       " 'unfamiliar': 13903,\n",
       " 'sovereignty': 3416,\n",
       " 'poppies': 44076,\n",
       " 'hurdler': 47144,\n",
       " 'stings': 45882,\n",
       " 'fmln': 30965,\n",
       " 'plunder': 22894,\n",
       " 'hamsun': 25570,\n",
       " 'workforce': 15505,\n",
       " 'eruptions': 14921,\n",
       " 'orbital': 4756,\n",
       " 'metronome': 48684,\n",
       " 'jagged': 28305,\n",
       " 'lema': 30754,\n",
       " 'paxton': 39753,\n",
       " 'ewing': 31029,\n",
       " 'frei': 25100,\n",
       " 'subtracting': 29600,\n",
       " 'rye': 13305,\n",
       " 'lifeboat': 29743,\n",
       " 'agouti': 31189,\n",
       " 'sabre': 13281,\n",
       " 'weinberger': 31190,\n",
       " 'rw': 16457,\n",
       " 'highlands': 5998,\n",
       " 'ghee': 45025,\n",
       " 'lily': 16964,\n",
       " 'temples': 5588,\n",
       " 'eat': 3598,\n",
       " 'aunts': 37436,\n",
       " 'possibilities': 6882,\n",
       " 'supreme': 1351,\n",
       " 'beatings': 29375,\n",
       " 'kilt': 13510,\n",
       " 'flourishes': 36076,\n",
       " 'highlanders': 20014,\n",
       " 'customizable': 38229,\n",
       " 'furniture': 7465,\n",
       " 'jumo': 43530,\n",
       " 'drinker': 24731,\n",
       " 'enshrined': 22241,\n",
       " 'depriving': 28306,\n",
       " 'quincy': 13486,\n",
       " 'boulez': 38939,\n",
       " 'currently': 740,\n",
       " 'intercession': 27150,\n",
       " 'culbert': 42999,\n",
       " 'specifying': 12080,\n",
       " 'antiquarian': 17791,\n",
       " 'nazarene': 28136,\n",
       " 'glutamate': 24520,\n",
       " 'decapitation': 46059,\n",
       " 'skirt': 21304,\n",
       " 'topalov': 38940,\n",
       " 'reader': 3934,\n",
       " 'lennox': 28631,\n",
       " 'typology': 25101,\n",
       " 'thummim': 47888,\n",
       " 'handwriting': 13730,\n",
       " 'destroys': 10639,\n",
       " 'compulsory': 6972,\n",
       " 'kol': 37103,\n",
       " 'correspondents': 26753,\n",
       " 'nr': 19348,\n",
       " 'skater': 11122,\n",
       " 'programmer': 6141,\n",
       " 'two': 10,\n",
       " 'bullpen': 31684,\n",
       " 'communications': 1666,\n",
       " 'roebuck': 45884,\n",
       " 'garnier': 30755,\n",
       " 'alliance': 2007,\n",
       " 'dhamma': 27988,\n",
       " 'sudbury': 32590,\n",
       " 'first': 46,\n",
       " 'pineapple': 21901,\n",
       " 'sindh': 24732,\n",
       " 'dharmas': 41487,\n",
       " 'eddy': 13760,\n",
       " 'bartle': 38577,\n",
       " 'wrongdoing': 22516,\n",
       " 'cossacks': 21795,\n",
       " 'introductions': 18843,\n",
       " 'astrometric': 44078,\n",
       " 'tired': 11446,\n",
       " 'shrewsbury': 22895,\n",
       " 'billy': 4541,\n",
       " 'helmut': 18276,\n",
       " 'barra': 41043,\n",
       " 'comit': 39916,\n",
       " 'borrows': 21467,\n",
       " 'feynman': 11918,\n",
       " 'judea': 14314,\n",
       " 'hillsborough': 33075,\n",
       " 'piedmont': 17578,\n",
       " 'positively': 12440,\n",
       " 'sravaka': 37104,\n",
       " 'fiesta': 30316,\n",
       " 'pedagogical': 34666,\n",
       " 'appalachia': 41044,\n",
       " 'yakuza': 49401,\n",
       " 'gretchen': 37852,\n",
       " 'foreman': 22544,\n",
       " 'grizzly': 18521,\n",
       " 'castilian': 16584,\n",
       " 'peggy': 16383,\n",
       " 'impurities': 15463,\n",
       " 'deneb': 38230,\n",
       " 'banchan': 48730,\n",
       " 'germaine': 38578,\n",
       " 'laia': 45879,\n",
       " 'quan': 45885,\n",
       " 'cardinals': 6643,\n",
       " 'piggy': 32591,\n",
       " 'contains': 825,\n",
       " 'bertie': 30317,\n",
       " 'hyundai': 46643,\n",
       " 'claw': 19824,\n",
       " 'polyalphabetic': 39365,\n",
       " 'proton': 8322,\n",
       " 'austroasiatic': 37853,\n",
       " 'machinist': 46524,\n",
       " 'spontaneously': 11349,\n",
       " 'drink': 3338,\n",
       " 'complexity': 2725,\n",
       " 'glands': 11537,\n",
       " 'ghetto': 15549,\n",
       " 'wields': 42433,\n",
       " 'deep': 1462,\n",
       " 'hydroponic': 37854,\n",
       " 'hysteresis': 44930,\n",
       " 'israelites': 6908,\n",
       " 'laurentiis': 41964,\n",
       " 'cardiac': 11538,\n",
       " 'cell': 801,\n",
       " 'eoin': 29376,\n",
       " 'coens': 40160,\n",
       " 'lawfully': 30976,\n",
       " 'cohomology': 27350,\n",
       " 'renal': 12507,\n",
       " 'carts': 18631,\n",
       " 'isbn': 272,\n",
       " 'concourse': 36784,\n",
       " 'archived': 26390,\n",
       " 'landmine': 37461,\n",
       " 'mythos': 8494,\n",
       " 'stjepan': 41045,\n",
       " 'advancements': 24865,\n",
       " 'reversals': 48026,\n",
       " 'cleared': 9900,\n",
       " 'tutorials': 13362,\n",
       " 'wil': 49402,\n",
       " 'frances': 12097,\n",
       " 'attested': 9647,\n",
       " 'tv': 905,\n",
       " 'snorri': 15853,\n",
       " 'autonomously': 45253,\n",
       " 'flint': 14023,\n",
       " 'powerful': 1279,\n",
       " 'hydroxyproline': 48899,\n",
       " 'sasquatch': 12183,\n",
       " 'turned': 1298,\n",
       " 'conferred': 12846,\n",
       " 'ascii': 4172,\n",
       " 'homeowners': 42439,\n",
       " 'rajah': 48686,\n",
       " 'aceh': 29377,\n",
       " 'marduk': 22255,\n",
       " 'waterfalls': 25113,\n",
       " 'console': 4665,\n",
       " 'vinland': 31392,\n",
       " 'alcaeus': 48775,\n",
       " 'respite': 36785,\n",
       " 'stockpile': 49094,\n",
       " 'ursidae': 40586,\n",
       " 'refusing': 9346,\n",
       " 'padding': 27497,\n",
       " 'analysts': 13016,\n",
       " 'prosthetics': 41510,\n",
       " 'biog': 49403,\n",
       " 'pacts': 43893,\n",
       " 'carrie': 20780,\n",
       " 'protocols': 4949,\n",
       " 'controversial': 1672,\n",
       " 'authentic': 7637,\n",
       " 'fit': 2641,\n",
       " 'resistivity': 42440,\n",
       " 'somber': 43001,\n",
       " 'clarification': 24521,\n",
       " 'galilei': 16965,\n",
       " 'rosette': 36077,\n",
       " 'gershom': 43532,\n",
       " 'haydn': 6617,\n",
       " 'incompatibility': 30107,\n",
       " 'infidels': 32130,\n",
       " 'consumerism': 34086,\n",
       " 'rammed': 32345,\n",
       " 'dat': 17839,\n",
       " 'huike': 43340,\n",
       " 'francesco': 8357,\n",
       " 'boutiques': 49404,\n",
       " 'navier': 34087,\n",
       " 'adventurous': 24405,\n",
       " 'denham': 22342,\n",
       " 'madeira': 11287,\n",
       " 'glycosylation': 47515,\n",
       " 'mithraea': 43749,\n",
       " 'team': 361,\n",
       " 'gondwana': 35433,\n",
       " 'golgi': 18337,\n",
       " 'launcher': 15771,\n",
       " 'alcindor': 48687,\n",
       " 'overtures': 28474,\n",
       " 'disintegration': 21150,\n",
       " 'infidelity': 29026,\n",
       " 'supp': 38231,\n",
       " 'marischal': 35255,\n",
       " 'unfortunate': 12411,\n",
       " 'lim': 8513,\n",
       " 'tt': 12098,\n",
       " 'bags': 15731,\n",
       " 'soares': 36452,\n",
       " 'however': 77,\n",
       " 'fertility': 5648,\n",
       " 'polity': 25102,\n",
       " 'dummy': 24465,\n",
       " 'echols': 17792,\n",
       " 'packs': 15202,\n",
       " 'perennials': 43701,\n",
       " 'dynamite': 13333,\n",
       " 'staircase': 23112,\n",
       " 'bourgeoisie': 20436,\n",
       " 'golovachev': 38929,\n",
       " 'approve': 11461,\n",
       " 'swami': 21631,\n",
       " 'enumerated': 19826,\n",
       " 'efta': 16966,\n",
       " 'fences': 23609,\n",
       " 'atanasoff': 25930,\n",
       " 'footwear': 19960,\n",
       " 'sidonia': 37855,\n",
       " 'concludes': 9114,\n",
       " 'armouries': 45255,\n",
       " 'motif': 14163,\n",
       " 'adret': 39366,\n",
       " 'theology': 2643,\n",
       " 'grit': 36097,\n",
       " 'tum': 29027,\n",
       " 'stencil': 28632,\n",
       " 'arrange': 12605,\n",
       " 'numan': 43524,\n",
       " 'andros': 39367,\n",
       " 'edo': 15309,\n",
       " 'granted': 1991,\n",
       " 'jamestown': 23539,\n",
       " 'mecca': 9603,\n",
       " 'affirming': 17579,\n",
       " 'verily': 29580,\n",
       " 'chicken': 6238,\n",
       " 'speculator': 39756,\n",
       " 'rabban': 38976,\n",
       " 'columbia': 1763,\n",
       " 'braid': 46525,\n",
       " 'simulation': 8452,\n",
       " 'convalescence': 45256,\n",
       " 'equilibria': 29744,\n",
       " 'stephens': 19429,\n",
       " 'indictees': 37438,\n",
       " 'leverett': 47146,\n",
       " 'evi': 13232,\n",
       " 'wrigley': 25806,\n",
       " 'courthouse': 20300,\n",
       " 'impeached': 21309,\n",
       " 'tsuburaya': 42481,\n",
       " 'compositional': 19036,\n",
       " 'percussionist': 32346,\n",
       " 'adi': 20376,\n",
       " 'brakeman': 44621,\n",
       " 'artaxerxes': 27630,\n",
       " 'vax': 14566,\n",
       " 'os': 1718,\n",
       " 'audubon': 20490,\n",
       " 'rich': 1611,\n",
       " 'poetical': 28400,\n",
       " 'brewery': 11236,\n",
       " 'circle': 2064,\n",
       " 'organised': 5845,\n",
       " 'looking': 2398,\n",
       " 'remediation': 49456,\n",
       " 'collages': 47391,\n",
       " 'generations': 4086,\n",
       " 'hall': 993,\n",
       " 'parenthesis': 40564,\n",
       " 'directorial': 33803,\n",
       " 'rvi': 17840,\n",
       " 'lie': 2563,\n",
       " 'jutsu': 43002,\n",
       " 'chatting': 34369,\n",
       " 'selector': 24638,\n",
       " 'horde': 16339,\n",
       " 'illness': 3935,\n",
       " 'searchable': 14097,\n",
       " 'coprocessor': 40162,\n",
       " 'intractable': 27631,\n",
       " 'picchi': 45257,\n",
       " 'decent': 16109,\n",
       " 'rebates': 45258,\n",
       " 'rnsson': 45259,\n",
       " 'synchronised': 38941,\n",
       " 'barr': 17627,\n",
       " 'vitally': 38580,\n",
       " 'concordance': 35790,\n",
       " 'welt': 39757,\n",
       " 'parmenides': 45988,\n",
       " 'millennialism': 30529,\n",
       " 'publicize': 39283,\n",
       " 'heyerdahl': 36453,\n",
       " 'kifl': 43003,\n",
       " 'rieure': 17737,\n",
       " 'rhodesia': 13203,\n",
       " 'tabari': 36454,\n",
       " 'oxide': 6070,\n",
       " 'rsync': 47250,\n",
       " 'funding': 3773,\n",
       " 'educator': 14212,\n",
       " 'droplets': 23955,\n",
       " 'mitchell': 5130,\n",
       " 'apprehension': 26325,\n",
       " 'minister': 456,\n",
       " 'responds': 11693,\n",
       " 'parabola': 23333,\n",
       " 'macgregor': 20713,\n",
       " 'remembering': 17982,\n",
       " 'interconnection': 27221,\n",
       " 'fest': 31634,\n",
       " 'shattered': 14595,\n",
       " 'srinagar': 41047,\n",
       " 'jefferson': 5037,\n",
       " 'confederate': 3554,\n",
       " 'simulations': 15770,\n",
       " 'ibiblio': 46526,\n",
       " 'lilac': 45260,\n",
       " 'alyattes': 47892,\n",
       " 'spanking': 47267,\n",
       " 'satellite': 1941,\n",
       " 'tamil': 6415,\n",
       " 'choruses': 38942,\n",
       " 'appreciative': 44953,\n",
       " 'easter': 4097,\n",
       " 'judo': 9899,\n",
       " 'inflated': 21305,\n",
       " 'pitts': 33804,\n",
       " 'accelerators': 24866,\n",
       " 'cahill': 40565,\n",
       " 'leonidas': 31192,\n",
       " 'amplitudes': 29028,\n",
       " 'ares': 11613,\n",
       " 'disfigured': 37439,\n",
       " 'northside': 27498,\n",
       " 'waited': 18154,\n",
       " 'broadsword': 44079,\n",
       " 'arya': 38935,\n",
       " 'sacrilegious': 48752,\n",
       " 'fatima': 28307,\n",
       " 'registering': 25116,\n",
       " 'unidentified': 19352,\n",
       " 'shrews': 49050,\n",
       " 'repeat': 6901,\n",
       " 'expos': 13017,\n",
       " 'rem': 24867,\n",
       " 'nomads': 18632,\n",
       " 'vitamin': 10923,\n",
       " 'medici': 11480,\n",
       " 'bowser': 40599,\n",
       " 'imhotep': 29937,\n",
       " 'severan': 39368,\n",
       " 'cimmerians': 31430,\n",
       " 'frieza': 37105,\n",
       " 'thorne': 32347,\n",
       " 'pyrotechnics': 40566,\n",
       " 'clusters': 5189,\n",
       " 'meditate': 38943,\n",
       " 'domo': 36455,\n",
       " 'inflate': 34668,\n",
       " 'epidemics': 20641,\n",
       " 'julie': 12202,\n",
       " 'gabriel': 6909,\n",
       " 'blended': 16233,\n",
       " 'rhodes': 10228,\n",
       " 'sedative': 29938,\n",
       " 'sorcerer': 20377,\n",
       " 'addicted': 21063,\n",
       " 'cinco': 47139,\n",
       " 'recur': 23531,\n",
       " 'funchal': 37886,\n",
       " 'earthman': 47276,\n",
       " 'missa': 44072,\n",
       " 'ethnocentric': 38944,\n",
       " 'albret': 43004,\n",
       " 'raimi': 22517,\n",
       " 'deutschen': 19628,\n",
       " 'classless': 43534,\n",
       " 'kundalini': 12698,\n",
       " 'hif': 47894,\n",
       " 'torvalds': 11846,\n",
       " 'kadyrov': 45262,\n",
       " 'temperaments': 26466,\n",
       " 'conditional': 7060,\n",
       " 'photosphere': 48716,\n",
       " 'concluding': 14238,\n",
       " 'misfortunes': 31431,\n",
       " 'redskins': 18230,\n",
       " 'grace': 3902,\n",
       " 'provers': 42442,\n",
       " 'fights': 8951,\n",
       " 'cambodians': 37440,\n",
       " 'disperse': 27059,\n",
       " 'sporadic': 11367,\n",
       " 'cricetulus': 35791,\n",
       " 'yah': 27495,\n",
       " 'child': 996,\n",
       " 'dynamically': 14284,\n",
       " 'madeleine': 22242,\n",
       " 'queensberry': 32818,\n",
       " 'mithraic': 23213,\n",
       " 'metals': 3701,\n",
       " 'lumen': 29939,\n",
       " 'cdf': 28308,\n",
       " 'trait': 11080,\n",
       " 'unfree': 39369,\n",
       " 'christianization': 27958,\n",
       " 'hermit': 21632,\n",
       " 'crest': 10941,\n",
       " 'mayfield': 36786,\n",
       " 'vassals': 16315,\n",
       " 'downey': 21786,\n",
       " 'pact': 5029,\n",
       " 'unskilled': 21815,\n",
       " 'niven': 12971,\n",
       " 'stratigraphic': 34370,\n",
       " 'anchovies': 35514,\n",
       " 'governorate': 39370,\n",
       " 'transplanted': 28326,\n",
       " 'xps': 47140,\n",
       " 'routine': 8286,\n",
       " 'derails': 49518,\n",
       " 'kaist': 35792,\n",
       " 'accademia': 30318,\n",
       " 'retrofitted': 49405,\n",
       " 'refinement': 12878,\n",
       " 'dusting': 43258,\n",
       " 'telstra': 41049,\n",
       " 'loyalties': 29581,\n",
       " 'intensity': 6030,\n",
       " 'clutching': 47895,\n",
       " 'archiving': 35793,\n",
       " 'pigment': 15814,\n",
       " 'fachhochschule': 34954,\n",
       " 'enlisted': 12034,\n",
       " 'frey': 26754,\n",
       " 'lyman': 21633,\n",
       " 'especially': 365,\n",
       " 'bulgaria': 3168,\n",
       " 'malawian': 28698,\n",
       " 'steyn': 41050,\n",
       " 'catalytic': 15276,\n",
       " 'py': 38234,\n",
       " 'pergamum': 32819,\n",
       " 'bulb': 14057,\n",
       " 'winters': 6587,\n",
       " 'prevailing': 8914,\n",
       " 'faiths': 9897,\n",
       " 'overwhelm': 24301,\n",
       " 'quake': 11005,\n",
       " 'heaviest': 15310,\n",
       " 'uploaded': 41488,\n",
       " 'conservative': 1242,\n",
       " 'carbohydrates': 11732,\n",
       " 'borough': 5797,\n",
       " 'apollonius': 28137,\n",
       " 'allison': 15550,\n",
       " 'teleology': 46517,\n",
       " 'social': 345,\n",
       " 'philosophic': 22578,\n",
       " 'antiprotons': 31898,\n",
       " 'strain': 7261,\n",
       " 'marshland': 37856,\n",
       " 'raven': 12061,\n",
       " 'obscuring': 45891,\n",
       " 'connotation': 12315,\n",
       " 'nde': 20029,\n",
       " 'mina': 21725,\n",
       " 'falsifiability': 22518,\n",
       " 'soap': 6990,\n",
       " 'hillbillies': 24522,\n",
       " 'unequivocally': 32131,\n",
       " 'mal': 10441,\n",
       " 'nome': 35515,\n",
       " 'receives': 4084,\n",
       " 'gambier': 31899,\n",
       " 'tanzania': 10105,\n",
       " 'blacki': 39758,\n",
       " 'ven': 32279,\n",
       " 'unintended': 20028,\n",
       " 'dared': 25675,\n",
       " 'epitaph': 20788,\n",
       " 'kirtland': 29582,\n",
       " 'liszt': 18095,\n",
       " 'restricting': 13207,\n",
       " 'friends': 1401,\n",
       " 'evenings': 26908,\n",
       " 'appellation': 27813,\n",
       " 'bolshevik': 8442,\n",
       " 'wrestlemania': 27061,\n",
       " 'quadrivium': 44081,\n",
       " 'jaber': 41051,\n",
       " 'reinhard': 17732,\n",
       " 'detainees': 11970,\n",
       " 'plug': 10006,\n",
       " 'per': 514,\n",
       " 'elan': 47148,\n",
       " 'aerosol': 21991,\n",
       " 'wastes': 11786,\n",
       " 'shuttles': 38235,\n",
       " 'wade': 11099,\n",
       " 'gunpoint': 49519,\n",
       " 'rimbaud': 26611,\n",
       " 'allusions': 17195,\n",
       " 'milius': 45263,\n",
       " 'turismo': 43005,\n",
       " 'pegbox': 49407,\n",
       " 'satchmo': 44082,\n",
       " 'vendor': 10990,\n",
       " 'asl': 16788,\n",
       " 'inlet': 12599,\n",
       " 'instigate': 48096,\n",
       " 'melee': 21151,\n",
       " 'ill': 3273,\n",
       " 'bund': 36079,\n",
       " 'romeo': 19353,\n",
       " 'matth': 34089,\n",
       " 'depends': 2914,\n",
       " 'knox': 14499,\n",
       " 'barbie': 19827,\n",
       " 'bolshevist': 44017,\n",
       " 'cruelty': 13307,\n",
       " 'remotely': 21090,\n",
       " 'neonatal': 30320,\n",
       " 'motorway': 11593,\n",
       " 'strassburg': 37442,\n",
       " 'naively': 39760,\n",
       " 'sunset': 8741,\n",
       " 'trainee': 28475,\n",
       " 'accidentally': 8388,\n",
       " 'bodhidharma': 12531,\n",
       " 'nubcake': 49408,\n",
       " 'philosopher': 1850,\n",
       " 'reload': 22896,\n",
       " 'shuttlecock': 34669,\n",
       " 'arabidopsis': 47896,\n",
       " 'heathland': 45265,\n",
       " 'emanation': 45266,\n",
       " 'duration': 5718,\n",
       " 'aikido': 9947,\n",
       " 'spahn': 38946,\n",
       " 'gama': 18803,\n",
       " 'strasbourg': 14058,\n",
       " 'pagan': 4345,\n",
       " 'ferret': 47070,\n",
       " 'rubbed': 29029,\n",
       " 'luc': 11868,\n",
       " 'chiropractic': 9964,\n",
       " 'hang': 10106,\n",
       " 'workman': 35550,\n",
       " ...}"
      ]
     },
     "execution_count": 195,
     "metadata": {},
     "output_type": "execute_result"
    }
   ],
   "source": [
    "dictionary"
   ]
  },
  {
   "cell_type": "code",
   "execution_count": 197,
   "metadata": {},
   "outputs": [
    {
     "data": {
      "text/plain": [
       "('anarchism originated as a term of abuse first used',\n",
       " array([5235, 3083,   12,    6,  195,    2, 3136,   46,   59]))"
      ]
     },
     "execution_count": 197,
     "metadata": {},
     "output_type": "execute_result"
    }
   ],
   "source": [
    "\" \".join(words[:9]), data[:9]"
   ]
  },
  {
   "cell_type": "code",
   "execution_count": 198,
   "metadata": {},
   "outputs": [
    {
     "data": {
      "text/plain": [
       "'sitting matrix as a term of extinct first used'"
      ]
     },
     "execution_count": 198,
     "metadata": {},
     "output_type": "execute_result"
    }
   ],
   "source": [
    "\" \".join([vocabulary[word_index] for word_index in [5241, 3081, 12, 6, 195, 2, 3134, 46, 59]])"
   ]
  },
  {
   "cell_type": "markdown",
   "metadata": {},
   "source": [
    "## Generate batches"
   ]
  },
  {
   "cell_type": "markdown",
   "metadata": {},
   "source": [
    "function to generate a training batch for the skip_gram model."
   ]
  },
  {
   "cell_type": "code",
   "execution_count": 204,
   "metadata": {},
   "outputs": [
    {
     "name": "stdout",
     "output_type": "stream",
     "text": [
      "['anarchism', 'originated', 'as', 'a', 'term', 'of', 'abuse', 'first', 'used', 'against']\n"
     ]
    }
   ],
   "source": [
    "print(words[:10])"
   ]
  },
  {
   "cell_type": "code",
   "execution_count": 201,
   "metadata": {},
   "outputs": [
    {
     "data": {
      "text/plain": [
       "array([5235, 3083,   12, ...,   22,   16,   73])"
      ]
     },
     "execution_count": 201,
     "metadata": {},
     "output_type": "execute_result"
    }
   ],
   "source": [
    "data"
   ]
  },
  {
   "cell_type": "code",
   "execution_count": 214,
   "metadata": {
    "collapsed": true
   },
   "outputs": [],
   "source": [
    "import random\n",
    "from collections import deque\n",
    "\n",
    "data_index=0\n",
    "\n",
    "def generate_batch(batch_size, num_skips, skip_window):\n",
    "    global data_index\n",
    "    assert batch_size % num_skips == 0\n",
    "    assert num_skips <= 2 * skip_window\n",
    "    batch=np.ndarray(shape=(batch_size), dtype=np.int32)\n",
    "    labels=np.ndarray(shape=(batch_size,1), dtype=np.int32)\n",
    "    span=2*skip_window+1 #[skip_window, target, skip_window]\n",
    "    buffer=deque(maxlen=span)\n",
    "    for _ in range(span):\n",
    "        buffer.append(data[data_index])\n",
    "        data_index=(data_index+1) % len(data)\n",
    "    for i in range(batch_size//num_skips):\n",
    "        target = skip_window # target label at the center of the buffer\n",
    "        targets_to_avoid = [skip_window]\n",
    "        for j in range(num_skips):\n",
    "            while target in targets_to_avoid:\n",
    "                target=random.randint(0, span-1)\n",
    "            targets_to_avoid.append(target)\n",
    "            batch[i*num_skips+j]=buffer[skip_window]\n",
    "            labels[i*num_skips+j,0]=buffer[target]\n",
    "        buffer.append(data[data_index])\n",
    "        data_index=(data_index+1)%len(data)\n",
    "    return batch, labels"
   ]
  },
  {
   "cell_type": "code",
   "execution_count": 215,
   "metadata": {},
   "outputs": [],
   "source": [
    "data_index=0\n",
    "batch, labels=generate_batch(8,2,1)"
   ]
  },
  {
   "cell_type": "code",
   "execution_count": 217,
   "metadata": {},
   "outputs": [
    {
     "data": {
      "text/plain": [
       "array([3083, 3083,   12,   12,    6,    6,  195,  195], dtype=int32)"
      ]
     },
     "execution_count": 217,
     "metadata": {},
     "output_type": "execute_result"
    }
   ],
   "source": [
    "batch"
   ]
  },
  {
   "cell_type": "code",
   "execution_count": 216,
   "metadata": {},
   "outputs": [
    {
     "data": {
      "text/plain": [
       "(array([3083, 3083,   12,   12,    6,    6,  195,  195], dtype=int32),\n",
       " ['originated', 'originated', 'as', 'as', 'a', 'a', 'term', 'term'])"
      ]
     },
     "execution_count": 216,
     "metadata": {},
     "output_type": "execute_result"
    }
   ],
   "source": [
    "batch, [vocabulary[word] for word in batch]"
   ]
  },
  {
   "cell_type": "code",
   "execution_count": 218,
   "metadata": {},
   "outputs": [
    {
     "data": {
      "text/plain": [
       "(array([[  12],\n",
       "        [5235],\n",
       "        [   6],\n",
       "        [3083],\n",
       "        [  12],\n",
       "        [ 195],\n",
       "        [   2],\n",
       "        [   6]], dtype=int32),\n",
       " ['as', 'anarchism', 'a', 'originated', 'as', 'term', 'of', 'a'])"
      ]
     },
     "execution_count": 218,
     "metadata": {},
     "output_type": "execute_result"
    }
   ],
   "source": [
    "labels, [vocabulary[word] for word in labels[:,0]]"
   ]
  },
  {
   "cell_type": "markdown",
   "metadata": {},
   "source": [
    "## Build the model"
   ]
  },
  {
   "cell_type": "code",
   "execution_count": 219,
   "metadata": {
    "collapsed": true
   },
   "outputs": [],
   "source": [
    "batch_size=128\n",
    "embedding_size=150 # Dimension of the embedding vector\n",
    "skip_window=1 # How many words to consider left and right\n",
    "num_skips=2 # How many times to reuse an input te generate a label\n",
    "\n",
    "# We pick a random validation set to sample nearest neighbors. Here we limit the\n",
    "# validation samples to the words that have a low numeric ID, which by\n",
    "# construction are also the most frequent.\n",
    "valid_size = 16     # Random set of words to evaluate similarity on.\n",
    "valid_window = 100  # Only pick dev samples in the head of the distribution.\n",
    "valid_examples = np.random.choice(valid_window, valid_size, replace=False)\n",
    "num_sampled = 64    # Number of negative examples to sample.\n",
    "\n",
    "learning_rate = 0.01"
   ]
  },
  {
   "cell_type": "code",
   "execution_count": 220,
   "metadata": {
    "collapsed": true
   },
   "outputs": [],
   "source": [
    "reset_graph()\n",
    "\n",
    "# Input data.\n",
    "train_labels = tf.placeholder(tf.int32, shape=[batch_size, 1])\n",
    "valid_dataset = tf.constant(valid_examples, dtype=tf.int32)"
   ]
  },
  {
   "cell_type": "code",
   "execution_count": 221,
   "metadata": {
    "collapsed": true
   },
   "outputs": [],
   "source": [
    "vocabulary_size = 50000\n",
    "embedding_size = 150\n",
    "\n",
    "# Look up embeddings for inputs.\n",
    "init_embeds = tf.random_uniform([vocabulary_size, embedding_size], -1.0, 1.0)\n",
    "embeddings = tf.Variable(init_embeds)"
   ]
  },
  {
   "cell_type": "code",
   "execution_count": 222,
   "metadata": {
    "collapsed": true
   },
   "outputs": [],
   "source": [
    "train_inputs = tf.placeholder(tf.int32, shape=[None])\n",
    "embed = tf.nn.embedding_lookup(embeddings, train_inputs)"
   ]
  },
  {
   "cell_type": "code",
   "execution_count": 223,
   "metadata": {
    "collapsed": true
   },
   "outputs": [],
   "source": [
    "# Construct the variables for the NCE loss\n",
    "nce_weights = tf.Variable(\n",
    "    tf.truncated_normal([vocabulary_size, embedding_size],\n",
    "                        stddev=1.0 / np.sqrt(embedding_size)))\n",
    "nce_biases = tf.Variable(tf.zeros([vocabulary_size]))\n",
    "\n",
    "# Compute the average NCE loss for the batch.\n",
    "# tf.nce_loss automatically draws a new sample of the negative labels each\n",
    "# time we evaluate the loss.\n",
    "loss = tf.reduce_mean(\n",
    "    tf.nn.nce_loss(nce_weights, nce_biases, train_labels, embed,\n",
    "                   num_sampled, vocabulary_size))\n",
    "\n",
    "# Construct the Adam optimizer\n",
    "optimizer = tf.train.AdamOptimizer(learning_rate)\n",
    "training_op = optimizer.minimize(loss)\n",
    "\n",
    "# Compute the cosine similarity between minibatch examples and all embeddings.\n",
    "norm = tf.sqrt(tf.reduce_sum(tf.square(embeddings), axis=1, keep_dims=True))\n",
    "normalized_embeddings = embeddings / norm\n",
    "valid_embeddings = tf.nn.embedding_lookup(normalized_embeddings, valid_dataset)\n",
    "similarity = tf.matmul(valid_embeddings, normalized_embeddings, transpose_b=True)\n",
    "\n",
    "# Add variable initializer.\n",
    "init = tf.global_variables_initializer()"
   ]
  },
  {
   "cell_type": "code",
   "execution_count": 224,
   "metadata": {},
   "outputs": [
    {
     "name": "stdout",
     "output_type": "stream",
     "text": [
      "Iteration: 0\tAverage loss at step  0 :  285.391174316\n",
      "Nearest to new: tian, dorms, interstates, syst, lemmink, sama, crushed, resigning,\n",
      "Nearest to people: foreshadowed, bauer, pharaonic, dancers, aeroplane, habitually, ciii, musicology,\n",
      "Nearest to on: jupiter, overestimated, casas, nicaraguan, residues, monaco, lindy, preserved,\n",
      "Nearest to or: dispelling, senegalese, wales, spoke, nachrichten, appearance, druidism, smelter,\n",
      "Nearest to so: justifiably, prokofiev, chickasaw, chewed, engels, staples, rcs, laurens,\n",
      "Nearest to th: chancellorsville, volkssturm, preeminent, notional, charlize, swabia, thoroughly, crowell,\n",
      "Nearest to between: accelerates, peacemaker, marcy, osman, chemists, templar, network, constantinople,\n",
      "Nearest to however: darrow, arian, pita, nonexistent, smelting, signal, comiskey, simplify,\n",
      "Nearest to i: adp, graphemes, liners, kenjutsu, disambiguation, clav, jannaeus, priests,\n",
      "Nearest to seven: alison, sacrament, contras, berwick, aymara, sink, frunze, aq,\n",
      "Nearest to from: excite, byrds, schwitters, electricity, tippit, expressive, scorpions, pastures,\n",
      "Nearest to up: pixar, unreal, kali, aceh, swing, boito, outlandish, jagger,\n",
      "Nearest to united: crackdown, inadequacy, schiff, patria, subdivisions, catalogue, dolomite, studd,\n",
      "Nearest to often: lash, donaghy, gell, yearly, sacrificing, sondheim, practising, garfield,\n",
      "Nearest to state: lobo, fatou, geraldine, erik, zenith, athleticism, collectivity, bilabial,\n",
      "Nearest to may: ammonius, feelgood, insight, annex, volga, orgy, magazines, pepsi,\n",
      "Iteration: 2000\tAverage loss at step  2000 :  130.630803327\n",
      "Iteration: 4000\tAverage loss at step  4000 :  62.4743600368\n",
      "Iteration: 6000\tAverage loss at step  6000 :  42.2225182438\n",
      "Iteration: 8000\tAverage loss at step  8000 :  31.4227774985\n",
      "Iteration: 10000\tAverage loss at step  10000 :  25.4771958416\n",
      "Nearest to new: allen, ankh, crete, contemporaries, afc, unto, luca, var,\n",
      "Nearest to people: countable, columbus, bead, quitting, seo, caring, romanus, causality,\n",
      "Nearest to on: in, asparagales, of, romanus, jinx, gage, destiny, schechter,\n",
      "Nearest to or: and, ufos, barbuda, crete, daimler, a, royalist, topalov,\n",
      "Nearest to so: not, ushered, addictions, actinium, accordance, while, deux, ibook,\n",
      "Nearest to th: mandaic, celt, envelope, michele, ticonderoga, belt, seven, chancellorsville,\n",
      "Nearest to between: lb, with, abandonment, toil, bordeaux, diethyl, cooler, in,\n",
      "Nearest to however: developed, dkw, passed, accounted, the, gide, emigration, consul,\n",
      "Nearest to i: nobility, naturalistic, andrew, shipbuilding, eight, distillation, polygon, amhr,\n",
      "Nearest to seven: nine, six, one, two, zero, eight, five, three,\n",
      "Nearest to from: in, antigua, patrician, prometheus, arrhenius, aruba, militaristic, and,\n",
      "Nearest to up: pederastic, coin, soroban, adapted, seekers, fiddler, directly, egalitarianism,\n",
      "Nearest to united: states, brotherly, seo, supernaturalism, moon, crete, routine, persephone,\n",
      "Nearest to often: getting, stolen, commonly, neurology, sometimes, accelerates, prohibits, analogy,\n",
      "Nearest to state: altaic, unionist, daimler, revived, murchison, submachine, resigns, soroban,\n",
      "Nearest to may: benny, mike, alda, intel, refectory, sod, revoked, deployed,\n"
     ]
    }
   ],
   "source": [
    "num_steps = 10001\n",
    "\n",
    "with tf.Session() as session:\n",
    "    init.run()\n",
    "\n",
    "    average_loss = 0\n",
    "    for step in range(num_steps):\n",
    "        print(\"\\rIteration: {}\".format(step), end=\"\\t\")\n",
    "        batch_inputs, batch_labels = generate_batch(batch_size, num_skips, skip_window)\n",
    "        feed_dict = {train_inputs : batch_inputs, train_labels : batch_labels}\n",
    "\n",
    "        # We perform one update step by evaluating the training op (including it\n",
    "        # in the list of returned values for session.run()\n",
    "        _, loss_val = session.run([training_op, loss], feed_dict=feed_dict)\n",
    "        average_loss += loss_val\n",
    "\n",
    "        if step % 2000 == 0:\n",
    "            if step > 0:\n",
    "                average_loss /= 2000\n",
    "            # The average loss is an estimate of the loss over the last 2000 batches.\n",
    "            print(\"Average loss at step \", step, \": \", average_loss)\n",
    "            average_loss = 0\n",
    "\n",
    "        # Note that this is expensive (~20% slowdown if computed every 500 steps)\n",
    "        if step % 10000 == 0:\n",
    "            sim = similarity.eval()\n",
    "            for i in range(valid_size):\n",
    "                valid_word = vocabulary[valid_examples[i]]\n",
    "                top_k = 8 # number of nearest neighbors\n",
    "                nearest = (-sim[i, :]).argsort()[1:top_k+1]\n",
    "                log_str = \"Nearest to %s:\" % valid_word\n",
    "                for k in range(top_k):\n",
    "                    close_word = vocabulary[nearest[k]]\n",
    "                    log_str = \"%s %s,\" % (log_str, close_word)\n",
    "                print(log_str)\n",
    "\n",
    "    final_embeddings = normalized_embeddings.eval()"
   ]
  }
 ],
 "metadata": {
  "kernelspec": {
   "display_name": "Python [conda env:tensorflow]",
   "language": "python",
   "name": "conda-env-tensorflow-py"
  },
  "language_info": {
   "codemirror_mode": {
    "name": "ipython",
    "version": 3
   },
   "file_extension": ".py",
   "mimetype": "text/x-python",
   "name": "python",
   "nbconvert_exporter": "python",
   "pygments_lexer": "ipython3",
   "version": "3.5.3"
  }
 },
 "nbformat": 4,
 "nbformat_minor": 2
}
