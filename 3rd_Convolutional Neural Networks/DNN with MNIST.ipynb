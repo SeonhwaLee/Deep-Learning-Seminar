{
 "cells": [
  {
   "cell_type": "code",
   "execution_count": 2,
   "metadata": {
    "collapsed": true
   },
   "outputs": [],
   "source": [
    "import tensorflow as tf\n",
    "from tensorflow.examples.tutorials.mnist import input_data\n",
    "from functools import partial"
   ]
  },
  {
   "cell_type": "code",
   "execution_count": 3,
   "metadata": {},
   "outputs": [
    {
     "name": "stdout",
     "output_type": "stream",
     "text": [
      "Successfully downloaded train-images-idx3-ubyte.gz 9912422 bytes.\n",
      "Extracting /tmp/data/train-images-idx3-ubyte.gz\n",
      "Successfully downloaded train-labels-idx1-ubyte.gz 28881 bytes.\n",
      "Extracting /tmp/data/train-labels-idx1-ubyte.gz\n",
      "Successfully downloaded t10k-images-idx3-ubyte.gz 1648877 bytes.\n",
      "Extracting /tmp/data/t10k-images-idx3-ubyte.gz\n",
      "Successfully downloaded t10k-labels-idx1-ubyte.gz 4542 bytes.\n",
      "Extracting /tmp/data/t10k-labels-idx1-ubyte.gz\n"
     ]
    }
   ],
   "source": [
    "mnist = input_data.read_data_sets(\"/tmp/data/\")\n",
    "means=mnist.train.images.mean(axis=0, keepdims=True)\n",
    "stds=mnist.train.images.std(axis=0, keepdims=True)+1e-10\n",
    "\n",
    "n_inputs=28*28\n",
    "n_hidden1=300\n",
    "n_hidden2=100\n",
    "n_outputs=10"
   ]
  },
  {
   "cell_type": "code",
   "execution_count": 8,
   "metadata": {
    "collapsed": true
   },
   "outputs": [],
   "source": [
    "tf.reset_default_graph()\n",
    "\n",
    "batch_norm_momentum=0.9\n",
    "\n",
    "X=tf.placeholder(tf.float32, shape=(None, n_inputs), name='X')\n",
    "y=tf.placeholder(tf.int64, shape=(None), name='y')\n",
    "training=tf.placeholder_with_default(False, shape=(), name='training')\n",
    "\n",
    "with tf.name_scope('dnn'):\n",
    "    he_init=tf.contrib.layers.variance_scaling_initializer()\n",
    "    \n",
    "    my_batch_norm_layer=partial(tf.layers.batch_normalization, training=training, momentum=batch_norm_momentum)\n",
    "    my_dense_layer=partial(tf.layers.dense, kernel_initializer=he_init)\n",
    "    \n",
    "    hidden1=my_dense_layer(X, n_hidden1, name='hidden1')\n",
    "    bn1=tf.nn.elu(my_batch_norm_layer(hidden1))\n",
    "    hidden2=my_dense_layer(bn1, n_hidden2, name='hidden2')\n",
    "    bn2=tf.nn.elu(my_batch_norm_layer(hidden2))\n",
    "    logits_before_bn=my_dense_layer(bn2, n_outputs, name='outputs')\n",
    "    logits=my_batch_norm_layer(logits_before_bn)\n",
    "    \n",
    "with tf.name_scope('loss'):\n",
    "    xentropy=tf.nn.sparse_softmax_cross_entropy_with_logits(labels=y, logits=logits)\n",
    "    loss=tf.reduce_mean(xentropy, name='loss')\n",
    "\n",
    "learning_rate=0.01\n",
    "with tf.name_scope('train'):\n",
    "    optimizer=tf.train.GradientDescentOptimizer(learning_rate)\n",
    "    training_op=optimizer.minimize(loss)\n",
    "    \n",
    "with tf.name_scope('eval'):\n",
    "    correct=tf.nn.in_top_k(logits, y, 1)\n",
    "    accuracy=tf.reduce_mean(tf.cast(correct, tf.float32))"
   ]
  },
  {
   "cell_type": "code",
   "execution_count": 9,
   "metadata": {
    "collapsed": true
   },
   "outputs": [],
   "source": [
    "init=tf.global_variables_initializer()\n",
    "saver=tf.train.Saver()\n",
    "loss_summary=tf.summary.scalar('loss', loss)\n",
    "file_writer=tf.summary.FileWriter('./tf_logs/dnn2', tf.get_default_graph())\n",
    "n_epochs=40\n",
    "batch_size=50"
   ]
  },
  {
   "cell_type": "code",
   "execution_count": 10,
   "metadata": {},
   "outputs": [
    {
     "name": "stdout",
     "output_type": "stream",
     "text": [
      "0 batch accuracy: 0.9 validation acuracy: 0.826\n",
      "2 batch accuracy: 0.96 validation acuracy: 0.8374\n",
      "4 batch accuracy: 0.96 validation acuracy: 0.8438\n",
      "6 batch accuracy: 0.92 validation acuracy: 0.8442\n",
      "8 batch accuracy: 0.96 validation acuracy: 0.843\n",
      "10 batch accuracy: 0.9 validation acuracy: 0.8462\n",
      "12 batch accuracy: 0.96 validation acuracy: 0.844\n",
      "14 batch accuracy: 1.0 validation acuracy: 0.838\n",
      "16 batch accuracy: 0.98 validation acuracy: 0.8334\n",
      "18 batch accuracy: 0.96 validation acuracy: 0.8292\n",
      "20 batch accuracy: 0.98 validation acuracy: 0.8226\n",
      "22 batch accuracy: 1.0 validation acuracy: 0.8244\n",
      "24 batch accuracy: 0.98 validation acuracy: 0.8218\n",
      "26 batch accuracy: 1.0 validation acuracy: 0.8134\n",
      "28 batch accuracy: 1.0 validation acuracy: 0.8042\n",
      "30 batch accuracy: 1.0 validation acuracy: 0.796\n",
      "32 batch accuracy: 1.0 validation acuracy: 0.794\n",
      "34 batch accuracy: 1.0 validation acuracy: 0.7922\n",
      "36 batch accuracy: 1.0 validation acuracy: 0.7848\n",
      "38 batch accuracy: 1.0 validation acuracy: 0.7808\n",
      "277.4181971549988\n"
     ]
    }
   ],
   "source": [
    "import time\n",
    "start=time.time()\n",
    "with tf.Session() as sess:\n",
    "    sess.run(init)\n",
    "    for epoch in range(n_epochs):\n",
    "        for iteration in range(mnist.train.num_examples//batch_size):\n",
    "            X_batch, y_batch=mnist.train.next_batch(batch_size)\n",
    "            X_batch_scaled=(X_batch-means)/stds\n",
    "            summary_str=loss_summary.eval(feed_dict={X:X_batch, y:y_batch})\n",
    "            step=epoch*(mnist.train.num_examples//batch_size)+iteration\n",
    "            \n",
    "            file_writer.add_summary(summary_str, step)\n",
    "            sess.run(training_op, feed_dict={X:X_batch, y:y_batch})\n",
    "        \n",
    "        if epoch % 2 == 0:\n",
    "            acc_train=accuracy.eval(feed_dict={X:X_batch, y:y_batch})\n",
    "            X_val_scaled=(mnist.validation.images-means)/stds\n",
    "            acc_test=accuracy.eval(feed_dict={X:X_val_scaled, y:mnist.validation.labels})\n",
    "            print(epoch, \"batch accuracy:\", acc_train, 'validation acuracy:', acc_test)\n",
    "    \n",
    "    saver_path=saver.save(sess, './my_model_final_dnn.ckpt')\n",
    "end=time.time()\n",
    "print(end-start)"
   ]
  }
 ],
 "metadata": {
  "kernelspec": {
   "display_name": "Python 3",
   "language": "python",
   "name": "python3"
  },
  "language_info": {
   "codemirror_mode": {
    "name": "ipython",
    "version": 3
   },
   "file_extension": ".py",
   "mimetype": "text/x-python",
   "name": "python",
   "nbconvert_exporter": "python",
   "pygments_lexer": "ipython3",
   "version": "3.6.3"
  }
 },
 "nbformat": 4,
 "nbformat_minor": 2
}
